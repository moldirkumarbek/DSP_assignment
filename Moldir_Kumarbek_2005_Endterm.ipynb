{
 "cells": [
  {
   "cell_type": "markdown",
   "id": "6f96a52a",
   "metadata": {},
   "source": [
    "# DSP1: Endterm\n",
    "\n",
    "### Date: February 16\n",
    "\n",
    "### Time: 18:00 - 19:30\n",
    "\n",
    "\n",
    "**Instructions:** \n",
    "* All answers should be filled in the notebook and then submitted to Moodle;\n",
    "* For theoretical question you can use markdown and LaTeX;\n",
    "* Save number of cells used for compilation;\n",
    "* In order to get max scores, please write explanations and comments for each step. In addition, try to comment you code pieces. Use your knowledge of visualising from previous course."
   ]
  },
  {
   "cell_type": "markdown",
   "id": "5a93092a",
   "metadata": {},
   "source": [
    "## Problem 1 (35%)\n",
    "Take the dataset with car prices - cars.csv. Your target variable is Price. You will need to build linear regression model to predict target. Tasks to do:\n",
    "1.  Define your X and y. Take Year variable and choose two other two explanatory variables to use in your model. It is up to you which one to use, however you should explain your choice without any calculations (just logic).\n",
    "\n",
    "2. Split your data into train and test samples (**25% for testing**) with random state equal to **777**. \n",
    "\n",
    "3. Use sklearn to get the model. Obtain the intercept ( 𝐵0 ) and the coefficients ( 𝐵1,𝐵2,B3 ) for your model.\n",
    "\n",
    "4. Interpret these coefficients in the context of the problem. Explain and check if all of them make sense?\n",
    "\n",
    "5. Using test set, evaluate the trained model. Use R-squared and MSE as metrics for evaluation.\n",
    "\n",
    "6. Write down conclusion of your model, i.e. describe your obtained metric results.\n",
    "\n",
    "***Hint: to make your life easier, I recommend to use only numerical variables.*** "
   ]
  },
  {
   "cell_type": "code",
   "execution_count": 1,
   "id": "7adb29ce-f1c3-4888-b08c-ded61299886c",
   "metadata": {},
   "outputs": [],
   "source": [
    "import numpy as np\n",
    "import pandas as pd\n",
    "import matplotlib.pyplot as plt\n",
    "import seaborn as sns\n",
    "from scipy.stats import norm\n",
    "from scipy.stats import t\n",
    "from scipy import stats\n",
    "import statistics as st\n",
    "import math\n",
    "%matplotlib inline"
   ]
  },
  {
   "cell_type": "markdown",
   "id": "10b0a26a-9442-4bcc-8869-92c3bbe16256",
   "metadata": {},
   "source": [
    "#### #1 "
   ]
  },
  {
   "cell_type": "code",
   "execution_count": 2,
   "id": "a4da680a-c0b6-4381-a0d3-cf744dde371b",
   "metadata": {},
   "outputs": [
    {
     "data": {
      "text/html": [
       "<div>\n",
       "<style scoped>\n",
       "    .dataframe tbody tr th:only-of-type {\n",
       "        vertical-align: middle;\n",
       "    }\n",
       "\n",
       "    .dataframe tbody tr th {\n",
       "        vertical-align: top;\n",
       "    }\n",
       "\n",
       "    .dataframe thead th {\n",
       "        text-align: right;\n",
       "    }\n",
       "</style>\n",
       "<table border=\"1\" class=\"dataframe\">\n",
       "  <thead>\n",
       "    <tr style=\"text-align: right;\">\n",
       "      <th></th>\n",
       "      <th>model</th>\n",
       "      <th>year</th>\n",
       "      <th>price</th>\n",
       "      <th>transmission</th>\n",
       "      <th>mileage</th>\n",
       "      <th>fuelType</th>\n",
       "      <th>tax</th>\n",
       "      <th>mpg</th>\n",
       "      <th>engineSize</th>\n",
       "      <th>carBrand</th>\n",
       "      <th>BrandModel</th>\n",
       "    </tr>\n",
       "  </thead>\n",
       "  <tbody>\n",
       "    <tr>\n",
       "      <th>0</th>\n",
       "      <td>A1</td>\n",
       "      <td>2017</td>\n",
       "      <td>12500</td>\n",
       "      <td>Manual</td>\n",
       "      <td>15735</td>\n",
       "      <td>Petrol</td>\n",
       "      <td>150</td>\n",
       "      <td>55.4</td>\n",
       "      <td>1.4</td>\n",
       "      <td>Audi</td>\n",
       "      <td>Audi -  A1</td>\n",
       "    </tr>\n",
       "    <tr>\n",
       "      <th>1</th>\n",
       "      <td>A6</td>\n",
       "      <td>2016</td>\n",
       "      <td>16500</td>\n",
       "      <td>Automatic</td>\n",
       "      <td>36203</td>\n",
       "      <td>Diesel</td>\n",
       "      <td>20</td>\n",
       "      <td>64.2</td>\n",
       "      <td>2.0</td>\n",
       "      <td>Audi</td>\n",
       "      <td>Audi -  A6</td>\n",
       "    </tr>\n",
       "    <tr>\n",
       "      <th>2</th>\n",
       "      <td>A1</td>\n",
       "      <td>2016</td>\n",
       "      <td>11000</td>\n",
       "      <td>Manual</td>\n",
       "      <td>29946</td>\n",
       "      <td>Petrol</td>\n",
       "      <td>30</td>\n",
       "      <td>55.4</td>\n",
       "      <td>1.4</td>\n",
       "      <td>Audi</td>\n",
       "      <td>Audi -  A1</td>\n",
       "    </tr>\n",
       "    <tr>\n",
       "      <th>3</th>\n",
       "      <td>A4</td>\n",
       "      <td>2017</td>\n",
       "      <td>16800</td>\n",
       "      <td>Automatic</td>\n",
       "      <td>25952</td>\n",
       "      <td>Diesel</td>\n",
       "      <td>145</td>\n",
       "      <td>67.3</td>\n",
       "      <td>2.0</td>\n",
       "      <td>Audi</td>\n",
       "      <td>Audi -  A4</td>\n",
       "    </tr>\n",
       "    <tr>\n",
       "      <th>4</th>\n",
       "      <td>A3</td>\n",
       "      <td>2019</td>\n",
       "      <td>17300</td>\n",
       "      <td>Manual</td>\n",
       "      <td>1998</td>\n",
       "      <td>Petrol</td>\n",
       "      <td>145</td>\n",
       "      <td>49.6</td>\n",
       "      <td>1.0</td>\n",
       "      <td>Audi</td>\n",
       "      <td>Audi -  A3</td>\n",
       "    </tr>\n",
       "  </tbody>\n",
       "</table>\n",
       "</div>"
      ],
      "text/plain": [
       "  model  year  price transmission  mileage fuelType  tax   mpg  engineSize  \\\n",
       "0    A1  2017  12500       Manual    15735   Petrol  150  55.4         1.4   \n",
       "1    A6  2016  16500    Automatic    36203   Diesel   20  64.2         2.0   \n",
       "2    A1  2016  11000       Manual    29946   Petrol   30  55.4         1.4   \n",
       "3    A4  2017  16800    Automatic    25952   Diesel  145  67.3         2.0   \n",
       "4    A3  2019  17300       Manual     1998   Petrol  145  49.6         1.0   \n",
       "\n",
       "  carBrand  BrandModel  \n",
       "0     Audi  Audi -  A1  \n",
       "1     Audi  Audi -  A6  \n",
       "2     Audi  Audi -  A1  \n",
       "3     Audi  Audi -  A4  \n",
       "4     Audi  Audi -  A3  "
      ]
     },
     "execution_count": 2,
     "metadata": {},
     "output_type": "execute_result"
    }
   ],
   "source": [
    "data = pd.read_csv('cars.csv')\n",
    "data.head()"
   ]
  },
  {
   "cell_type": "code",
   "execution_count": 3,
   "id": "bdc44009-21f0-495c-b63e-34535f5cd13f",
   "metadata": {},
   "outputs": [
    {
     "name": "stdout",
     "output_type": "stream",
     "text": [
      "<class 'pandas.core.frame.DataFrame'>\n",
      "RangeIndex: 34568 entries, 0 to 34567\n",
      "Data columns (total 11 columns):\n",
      " #   Column        Non-Null Count  Dtype  \n",
      "---  ------        --------------  -----  \n",
      " 0   model         34568 non-null  object \n",
      " 1   year          34568 non-null  int64  \n",
      " 2   price         34568 non-null  int64  \n",
      " 3   transmission  34568 non-null  object \n",
      " 4   mileage       34568 non-null  int64  \n",
      " 5   fuelType      34568 non-null  object \n",
      " 6   tax           34568 non-null  int64  \n",
      " 7   mpg           34568 non-null  float64\n",
      " 8   engineSize    34568 non-null  float64\n",
      " 9   carBrand      34568 non-null  object \n",
      " 10  BrandModel    34568 non-null  object \n",
      "dtypes: float64(2), int64(4), object(5)\n",
      "memory usage: 2.9+ MB\n"
     ]
    }
   ],
   "source": [
    "data.info()"
   ]
  },
  {
   "cell_type": "code",
   "execution_count": 4,
   "id": "b27c6879-933c-4c89-92ec-65d0391a7bb7",
   "metadata": {},
   "outputs": [
    {
     "data": {
      "text/html": [
       "<div>\n",
       "<style scoped>\n",
       "    .dataframe tbody tr th:only-of-type {\n",
       "        vertical-align: middle;\n",
       "    }\n",
       "\n",
       "    .dataframe tbody tr th {\n",
       "        vertical-align: top;\n",
       "    }\n",
       "\n",
       "    .dataframe thead th {\n",
       "        text-align: right;\n",
       "    }\n",
       "</style>\n",
       "<table border=\"1\" class=\"dataframe\">\n",
       "  <thead>\n",
       "    <tr style=\"text-align: right;\">\n",
       "      <th></th>\n",
       "      <th>model</th>\n",
       "      <th>year</th>\n",
       "      <th>price</th>\n",
       "      <th>transmission</th>\n",
       "      <th>mileage</th>\n",
       "      <th>fuelType</th>\n",
       "      <th>tax</th>\n",
       "      <th>mpg</th>\n",
       "      <th>engineSize</th>\n",
       "      <th>carBrand</th>\n",
       "      <th>BrandModel</th>\n",
       "    </tr>\n",
       "  </thead>\n",
       "  <tbody>\n",
       "    <tr>\n",
       "      <th>0</th>\n",
       "      <td>9</td>\n",
       "      <td>2017</td>\n",
       "      <td>12500</td>\n",
       "      <td>1</td>\n",
       "      <td>15735</td>\n",
       "      <td>4</td>\n",
       "      <td>150</td>\n",
       "      <td>55.4</td>\n",
       "      <td>1.4</td>\n",
       "      <td>0</td>\n",
       "      <td>0</td>\n",
       "    </tr>\n",
       "    <tr>\n",
       "      <th>1</th>\n",
       "      <td>14</td>\n",
       "      <td>2016</td>\n",
       "      <td>16500</td>\n",
       "      <td>0</td>\n",
       "      <td>36203</td>\n",
       "      <td>0</td>\n",
       "      <td>20</td>\n",
       "      <td>64.2</td>\n",
       "      <td>2.0</td>\n",
       "      <td>0</td>\n",
       "      <td>5</td>\n",
       "    </tr>\n",
       "    <tr>\n",
       "      <th>2</th>\n",
       "      <td>9</td>\n",
       "      <td>2016</td>\n",
       "      <td>11000</td>\n",
       "      <td>1</td>\n",
       "      <td>29946</td>\n",
       "      <td>4</td>\n",
       "      <td>30</td>\n",
       "      <td>55.4</td>\n",
       "      <td>1.4</td>\n",
       "      <td>0</td>\n",
       "      <td>0</td>\n",
       "    </tr>\n",
       "    <tr>\n",
       "      <th>3</th>\n",
       "      <td>12</td>\n",
       "      <td>2017</td>\n",
       "      <td>16800</td>\n",
       "      <td>0</td>\n",
       "      <td>25952</td>\n",
       "      <td>0</td>\n",
       "      <td>145</td>\n",
       "      <td>67.3</td>\n",
       "      <td>2.0</td>\n",
       "      <td>0</td>\n",
       "      <td>3</td>\n",
       "    </tr>\n",
       "    <tr>\n",
       "      <th>4</th>\n",
       "      <td>11</td>\n",
       "      <td>2019</td>\n",
       "      <td>17300</td>\n",
       "      <td>1</td>\n",
       "      <td>1998</td>\n",
       "      <td>4</td>\n",
       "      <td>145</td>\n",
       "      <td>49.6</td>\n",
       "      <td>1.0</td>\n",
       "      <td>0</td>\n",
       "      <td>2</td>\n",
       "    </tr>\n",
       "  </tbody>\n",
       "</table>\n",
       "</div>"
      ],
      "text/plain": [
       "   model  year  price  transmission  mileage  fuelType  tax   mpg  engineSize  \\\n",
       "0      9  2017  12500             1    15735         4  150  55.4         1.4   \n",
       "1     14  2016  16500             0    36203         0   20  64.2         2.0   \n",
       "2      9  2016  11000             1    29946         4   30  55.4         1.4   \n",
       "3     12  2017  16800             0    25952         0  145  67.3         2.0   \n",
       "4     11  2019  17300             1     1998         4  145  49.6         1.0   \n",
       "\n",
       "   carBrand  BrandModel  \n",
       "0         0           0  \n",
       "1         0           5  \n",
       "2         0           0  \n",
       "3         0           3  \n",
       "4         0           2  "
      ]
     },
     "execution_count": 4,
     "metadata": {},
     "output_type": "execute_result"
    }
   ],
   "source": [
    "for x in data.dtypes[data.dtypes == \"object\"].keys():\n",
    "    groups = list(data.groupby(x).count().index)\n",
    "    for i, y in enumerate(groups):\n",
    "        data[x] = data[x].replace(y, i)\n",
    "    data[x] = data[x].astype(int)\n",
    "data.head()"
   ]
  },
  {
   "cell_type": "code",
   "execution_count": 5,
   "id": "2ea8f5be-76fa-4eaa-8011-9a2efc998b95",
   "metadata": {},
   "outputs": [],
   "source": [
    "X = data.drop(columns = \"tax\")\n",
    "y = data[\"tax\"]\n",
    "# The price is integer integer variable, also another columns are for classifications. Price is for regression"
   ]
  },
  {
   "cell_type": "markdown",
   "id": "a9471394-2741-4771-9b4c-8258881aa24f",
   "metadata": {},
   "source": [
    "### #2"
   ]
  },
  {
   "cell_type": "code",
   "execution_count": 6,
   "id": "640e14a1-28da-4bf0-9cf6-7bcc66a02006",
   "metadata": {},
   "outputs": [],
   "source": [
    "from sklearn.model_selection import train_test_split\n",
    "X_train, X_test, y_train, y_test = train_test_split(X, y, test_size=0.25, random_state=777)"
   ]
  },
  {
   "cell_type": "markdown",
   "id": "8c6c4a22-1600-4e46-ab40-f2c6da789c17",
   "metadata": {},
   "source": [
    "### #3"
   ]
  },
  {
   "cell_type": "code",
   "execution_count": 7,
   "id": "510da78c-f72b-4976-aee5-c898c76ab417",
   "metadata": {},
   "outputs": [
    {
     "name": "stdout",
     "output_type": "stream",
     "text": [
      "Coefficients: [-3.60863922e-02 -2.11904229e+00 -7.11346377e-04  5.59205349e-02\n",
      " -5.78785435e-04  6.51466534e+00 -7.71987024e-01  3.52244837e+01\n",
      " -6.08426725e+01  2.57627303e+00] \n",
      "\n",
      "Intercept: 4375.5023637566865\n"
     ]
    }
   ],
   "source": [
    "from sklearn.linear_model import LinearRegression\n",
    "\n",
    "re = LinearRegression().fit(X_train, y_train)\n",
    "\n",
    "print(\"Coefficients:\", re.coef_ ,\"\\n\")\n",
    "print(\"Intercept:\", re.intercept_)"
   ]
  },
  {
   "cell_type": "markdown",
   "id": "b19903f8-3c8f-4e28-b586-1dc463161927",
   "metadata": {},
   "source": [
    "### #4"
   ]
  },
  {
   "cell_type": "markdown",
   "id": "688da06c-9445-4783-8437-fb6c90f92cee",
   "metadata": {},
   "source": [
    "#### In linear regression plots the lines in graphs.\n",
    "#### Intercept is interpection point in y axis\n",
    "#### A linear relationship between a dependent variable y and two or more independent variables (x1, x2, x3 . . . , xk) ####\n",
    "\\begin{align}\n",
    "y = b_0 + b_1 * x_1 + b_2 * x_2 + ... + b_n * x_n \n",
    "\\end{align}"
   ]
  },
  {
   "cell_type": "markdown",
   "id": "a8fd9177-0598-413c-87e4-0236f18a108f",
   "metadata": {},
   "source": [
    "### #5"
   ]
  },
  {
   "cell_type": "code",
   "execution_count": 8,
   "id": "4a391ab9-b3ca-4f43-8e08-70538a2e8287",
   "metadata": {},
   "outputs": [
    {
     "name": "stdout",
     "output_type": "stream",
     "text": [
      "MSE: 3004.8479797796563\n",
      "R2:  0.33337579593554956\n"
     ]
    }
   ],
   "source": [
    "from sklearn.metrics import mean_squared_error\n",
    "from sklearn.metrics import r2_score\n",
    "\n",
    "y_pred = re.predict(X_test)\n",
    "\n",
    "print(\"MSE:\", mean_squared_error(y_test,y_pred))\n",
    "print(\"R2: \", r2_score(y_test,y_pred))"
   ]
  },
  {
   "cell_type": "markdown",
   "id": "6cd485b7-5388-4506-8bb5-81afa6787cc6",
   "metadata": {},
   "source": [
    "### #6"
   ]
  },
  {
   "cell_type": "markdown",
   "id": "096a8378-f8fc-4f56-afee-b1b8e84a413a",
   "metadata": {},
   "source": [
    "#### Mean squared error loss, also known as quadratic loss, L2 loss,\n",
    "####  is often used in regression prediction tasks. \n",
    "#### The mean squared error function measures the quality of the model by calculating \n",
    "#### the square of the distance (ie, the error) between the predicted and actual values. That is, \n",
    "#### the closer the predicted value is to the actual value, the smaller the mean square error of the two.\n",
    "#### MSE is mean squared error regression loss.\n",
    "#### R2 (coefficient of determination) regression score function."
   ]
  },
  {
   "cell_type": "markdown",
   "id": "989af604",
   "metadata": {},
   "source": [
    "## Problem 2 (30%)\n",
    "Use the same dataset with the same goal of predicting price. Take Train set of your dataset that you obtained in Q1, and then do the following:\n",
    "1. Create new dataframe df_train, which will have X_train and y_train merged.\n",
    "2. Again build **regression model** but using **statsmodels.**\n",
    "3. Check if you obtained the same coefficients and intercept as in Q1.3. If there are any difference (up to 0.0001), explain why.\n",
    "4. Check if you obtained the same R-squared value. If there are any difference (up to 0.0001), explain why.\n",
    "5. Are all of the variables that you used worth to be used in the model?\n",
    "6. Can you find evidence for the fact that older cars will cost less?"
   ]
  },
  {
   "cell_type": "markdown",
   "id": "168da4f4-9cf4-4877-a6b5-5383778c7d4f",
   "metadata": {},
   "source": [
    "### 2.1"
   ]
  },
  {
   "cell_type": "code",
   "execution_count": 9,
   "id": "826c6a6a",
   "metadata": {},
   "outputs": [
    {
     "name": "stderr",
     "output_type": "stream",
     "text": [
      "C:\\Users\\Acer\\AppData\\Local\\Temp/ipykernel_18064/19437373.py:4: SettingWithCopyWarning: \n",
      "A value is trying to be set on a copy of a slice from a DataFrame.\n",
      "Try using .loc[row_indexer,col_indexer] = value instead\n",
      "\n",
      "See the caveats in the documentation: https://pandas.pydata.org/pandas-docs/stable/user_guide/indexing.html#returning-a-view-versus-a-copy\n",
      "  X_train[\"intercept\"] = 1\n"
     ]
    },
    {
     "data": {
      "text/html": [
       "<div>\n",
       "<style scoped>\n",
       "    .dataframe tbody tr th:only-of-type {\n",
       "        vertical-align: middle;\n",
       "    }\n",
       "\n",
       "    .dataframe tbody tr th {\n",
       "        vertical-align: top;\n",
       "    }\n",
       "\n",
       "    .dataframe thead th {\n",
       "        text-align: right;\n",
       "    }\n",
       "</style>\n",
       "<table border=\"1\" class=\"dataframe\">\n",
       "  <thead>\n",
       "    <tr style=\"text-align: right;\">\n",
       "      <th></th>\n",
       "      <th>model</th>\n",
       "      <th>year</th>\n",
       "      <th>price</th>\n",
       "      <th>transmission</th>\n",
       "      <th>mileage</th>\n",
       "      <th>fuelType</th>\n",
       "      <th>mpg</th>\n",
       "      <th>engineSize</th>\n",
       "      <th>carBrand</th>\n",
       "      <th>BrandModel</th>\n",
       "    </tr>\n",
       "  </thead>\n",
       "  <tbody>\n",
       "    <tr>\n",
       "      <th>33688</th>\n",
       "      <td>18</td>\n",
       "      <td>2015</td>\n",
       "      <td>30</td>\n",
       "      <td>0</td>\n",
       "      <td>33303</td>\n",
       "      <td>0</td>\n",
       "      <td>64.2</td>\n",
       "      <td>2.1</td>\n",
       "      <td>2</td>\n",
       "      <td>52</td>\n",
       "    </tr>\n",
       "    <tr>\n",
       "      <th>5346</th>\n",
       "      <td>11</td>\n",
       "      <td>2017</td>\n",
       "      <td>30</td>\n",
       "      <td>3</td>\n",
       "      <td>28849</td>\n",
       "      <td>4</td>\n",
       "      <td>57.6</td>\n",
       "      <td>1.4</td>\n",
       "      <td>0</td>\n",
       "      <td>2</td>\n",
       "    </tr>\n",
       "    <tr>\n",
       "      <th>6186</th>\n",
       "      <td>14</td>\n",
       "      <td>2019</td>\n",
       "      <td>145</td>\n",
       "      <td>0</td>\n",
       "      <td>515</td>\n",
       "      <td>0</td>\n",
       "      <td>37.7</td>\n",
       "      <td>3.0</td>\n",
       "      <td>0</td>\n",
       "      <td>5</td>\n",
       "    </tr>\n",
       "    <tr>\n",
       "      <th>32913</th>\n",
       "      <td>8</td>\n",
       "      <td>2018</td>\n",
       "      <td>145</td>\n",
       "      <td>0</td>\n",
       "      <td>6405</td>\n",
       "      <td>0</td>\n",
       "      <td>65.7</td>\n",
       "      <td>1.5</td>\n",
       "      <td>2</td>\n",
       "      <td>50</td>\n",
       "    </tr>\n",
       "    <tr>\n",
       "      <th>11553</th>\n",
       "      <td>1</td>\n",
       "      <td>2019</td>\n",
       "      <td>145</td>\n",
       "      <td>1</td>\n",
       "      <td>3266</td>\n",
       "      <td>4</td>\n",
       "      <td>52.3</td>\n",
       "      <td>1.5</td>\n",
       "      <td>1</td>\n",
       "      <td>27</td>\n",
       "    </tr>\n",
       "  </tbody>\n",
       "</table>\n",
       "</div>"
      ],
      "text/plain": [
       "       model  year  price  transmission  mileage  fuelType   mpg  engineSize  \\\n",
       "33688     18  2015     30             0    33303         0  64.2         2.1   \n",
       "5346      11  2017     30             3    28849         4  57.6         1.4   \n",
       "6186      14  2019    145             0      515         0  37.7         3.0   \n",
       "32913      8  2018    145             0     6405         0  65.7         1.5   \n",
       "11553      1  2019    145             1     3266         4  52.3         1.5   \n",
       "\n",
       "       carBrand  BrandModel  \n",
       "33688         2          52  \n",
       "5346          0           2  \n",
       "6186          0           5  \n",
       "32913         2          50  \n",
       "11553         1          27  "
      ]
     },
     "execution_count": 9,
     "metadata": {},
     "output_type": "execute_result"
    }
   ],
   "source": [
    "# Please, write your code here\n",
    "df_train = X_train.copy()\n",
    "df_train[\"price\"] = y_train\n",
    "X_train[\"intercept\"] = 1\n",
    "df_train.head()"
   ]
  },
  {
   "cell_type": "markdown",
   "id": "7dda42cb-ac0b-42ef-87af-4e181c478e28",
   "metadata": {},
   "source": [
    "### 2.2"
   ]
  },
  {
   "cell_type": "code",
   "execution_count": 10,
   "id": "2b6ce7de-dc2a-4706-b88c-9bffbdbd9b07",
   "metadata": {},
   "outputs": [
    {
     "name": "stdout",
     "output_type": "stream",
     "text": [
      "                            OLS Regression Results                            \n",
      "==============================================================================\n",
      "Dep. Variable:                    tax   R-squared:                       0.328\n",
      "Model:                            OLS   Adj. R-squared:                  0.328\n",
      "Method:                 Least Squares   F-statistic:                     1267.\n",
      "Date:                Wed, 16 Feb 2022   Prob (F-statistic):               0.00\n",
      "Time:                        19:15:13   Log-Likelihood:            -1.3943e+05\n",
      "No. Observations:               25926   AIC:                         2.789e+05\n",
      "Df Residuals:                   25915   BIC:                         2.790e+05\n",
      "Df Model:                          10                                         \n",
      "Covariance Type:            nonrobust                                         \n",
      "================================================================================\n",
      "                   coef    std err          t      P>|t|      [0.025      0.975]\n",
      "--------------------------------------------------------------------------------\n",
      "model           -0.0361      0.038     -0.939      0.348      -0.111       0.039\n",
      "year            -2.1190      0.253     -8.381      0.000      -2.615      -1.623\n",
      "price           -0.0007   5.21e-05    -13.660      0.000      -0.001      -0.001\n",
      "transmission     0.0559      0.253      0.221      0.825      -0.440       0.552\n",
      "mileage         -0.0006   2.32e-05    -24.995      0.000      -0.001      -0.001\n",
      "fuelType         6.5147      0.193     33.798      0.000       6.137       6.892\n",
      "mpg             -0.7720      0.018    -42.670      0.000      -0.807      -0.737\n",
      "engineSize      35.2245      0.853     41.295      0.000      33.553      36.896\n",
      "carBrand       -60.8427      3.279    -18.556      0.000     -67.269     -54.416\n",
      "BrandModel       2.5763      0.130     19.782      0.000       2.321       2.832\n",
      "intercept     4375.5024    510.382      8.573      0.000    3375.125    5375.879\n",
      "==============================================================================\n",
      "Omnibus:                     5243.878   Durbin-Watson:                   2.005\n",
      "Prob(Omnibus):                  0.000   Jarque-Bera (JB):            37879.673\n",
      "Skew:                           0.785   Prob(JB):                         0.00\n",
      "Kurtosis:                       8.710   Cond. No.                     5.79e+07\n",
      "==============================================================================\n",
      "\n",
      "Notes:\n",
      "[1] Standard Errors assume that the covariance matrix of the errors is correctly specified.\n",
      "[2] The condition number is large, 5.79e+07. This might indicate that there are\n",
      "strong multicollinearity or other numerical problems.\n"
     ]
    }
   ],
   "source": [
    "import statsmodels.api as sm\n",
    "model = sm.OLS(y_train, X_train).fit()\n",
    "print(model.summary())"
   ]
  },
  {
   "cell_type": "markdown",
   "id": "c400634c-ead9-458d-8054-2374e5ba6f88",
   "metadata": {},
   "source": [
    "### 2.3"
   ]
  },
  {
   "cell_type": "code",
   "execution_count": 11,
   "id": "02c0100a-16a5-4a33-9525-ad3c36a6f953",
   "metadata": {},
   "outputs": [
    {
     "name": "stdout",
     "output_type": "stream",
     "text": [
      "Coefs in statsmodels: [-0.036086392242389825, -2.1190422929840773, -0.0007113463772074902, 0.055920534880291355, -0.0005787854353936448, 6.514665339840294, -0.7719870236407664, 35.22448374922445, -60.84267251062734, 2.5762730349443856, 4375.502363760787]\n",
      "Coefs in sklearn:     [-0.036086392242916036, -2.11904229298205, -0.0007113463772070329, 0.05592053488057092, -0.0005787854353932911, 6.514665339840205, -0.7719870236407509, 35.22448374922438, -60.842672510627445, 2.5762730349443888]\n",
      "Intercept in statsmodels: 4375.502363760787\n",
      "Intercept in sklearn:     4375.5023637566865\n"
     ]
    }
   ],
   "source": [
    "print(\"Coefs in statsmodels:\", list(model.params))\n",
    "print(\"Coefs in sklearn:    \", list(re.coef_))\n",
    "print(\"Intercept in statsmodels:\", model.params.intercept)\n",
    "print(\"Intercept in sklearn:    \", re.intercept_)\n",
    "# In both case we using linear regression, and formula for linear regression are same"
   ]
  },
  {
   "cell_type": "markdown",
   "id": "78c664d8-4ae7-4bcd-99f6-1e1a5c719d74",
   "metadata": {},
   "source": [
    "### 2.4"
   ]
  },
  {
   "cell_type": "code",
   "execution_count": 12,
   "id": "3f8c4788-bc48-4849-a906-84a504ccf9d3",
   "metadata": {},
   "outputs": [
    {
     "name": "stdout",
     "output_type": "stream",
     "text": [
      "MSE STATSMODELS: 3004.847979779648\n",
      "MSE SKLEARN:     3004.8479797796563\n",
      "R2 STATSMODELS:  0.33337579593555133\n",
      "R2 SKLEARN:      0.33337579593554956\n"
     ]
    },
    {
     "name": "stderr",
     "output_type": "stream",
     "text": [
      "C:\\Users\\Acer\\AppData\\Local\\Temp/ipykernel_18064/150005669.py:1: SettingWithCopyWarning: \n",
      "A value is trying to be set on a copy of a slice from a DataFrame.\n",
      "Try using .loc[row_indexer,col_indexer] = value instead\n",
      "\n",
      "See the caveats in the documentation: https://pandas.pydata.org/pandas-docs/stable/user_guide/indexing.html#returning-a-view-versus-a-copy\n",
      "  X_test[\"intercept\"] = 1\n"
     ]
    }
   ],
   "source": [
    "X_test[\"intercept\"] = 1\n",
    "y_sm_pred = model.predict(X_test)\n",
    "print(\"MSE STATSMODELS:\", mean_squared_error(y_test,y_sm_pred))\n",
    "print(\"MSE SKLEARN:    \", mean_squared_error(y_test,y_pred))\n",
    "print(\"R2 STATSMODELS: \", r2_score(y_test,y_sm_pred))\n",
    "print(\"R2 SKLEARN:     \", r2_score(y_test,y_pred))"
   ]
  },
  {
   "cell_type": "markdown",
   "id": "5449d6a7-54c9-4e79-9d38-53ee51ddeb19",
   "metadata": {},
   "source": [
    "### 2.5"
   ]
  },
  {
   "cell_type": "markdown",
   "id": "2181a9ef-3951-4cc4-995f-2ba7e7224907",
   "metadata": {},
   "source": [
    "There can be variables that have high correlation coefecient"
   ]
  },
  {
   "cell_type": "code",
   "execution_count": 13,
   "id": "814d5adb-fb25-4ea0-bec0-b4bef3c5be0e",
   "metadata": {},
   "outputs": [
    {
     "data": {
      "text/plain": [
       "model             -0.036086\n",
       "year              -2.119042\n",
       "price             -0.000711\n",
       "transmission       0.055921\n",
       "mileage           -0.000579\n",
       "fuelType           6.514665\n",
       "mpg               -0.771987\n",
       "engineSize        35.224484\n",
       "carBrand         -60.842673\n",
       "BrandModel         2.576273\n",
       "intercept       4375.502364\n",
       "dtype: float64"
      ]
     },
     "execution_count": 13,
     "metadata": {},
     "output_type": "execute_result"
    }
   ],
   "source": [
    "model.params"
   ]
  },
  {
   "cell_type": "markdown",
   "id": "88b43275-a417-423c-9660-d0dbf211e542",
   "metadata": {},
   "source": [
    "### 2.6"
   ]
  },
  {
   "cell_type": "code",
   "execution_count": 14,
   "id": "de2115e2-7010-4d7a-9eb5-d12593d1d71c",
   "metadata": {},
   "outputs": [
    {
     "data": {
      "text/plain": [
       "<AxesSubplot:xlabel='year', ylabel='price'>"
      ]
     },
     "execution_count": 14,
     "metadata": {},
     "output_type": "execute_result"
    },
    {
     "data": {
      "image/png": "[encoded data removed]",
      "text/plain": [
       "<Figure size 432x288 with 1 Axes>"
      ]
     },
     "metadata": {
      "needs_background": "light"
     },
     "output_type": "display_data"
    }
   ],
   "source": [
    "sns.scatterplot(x = data[\"year\"], y = data[\"price\"] ,s=100, color=\".2\", marker=\"+\")\n",
    "# The coefecient of year and price is positive"
   ]
  },
  {
   "cell_type": "markdown",
   "id": "4f0afe43",
   "metadata": {},
   "source": [
    "## Problem 3 (35%)\n",
    "Use dataset about heart strikes - stroke.csv, and your goal is to classify if a person will have a stroke or not (i.e. stroke column is your Target). Using sklearn build logistic regression model to classify stroke. Tasks to do:\n",
    "1. Which independent variables are numerical and which are categorical? Note that categorical variables can be already encoded to 0 and 1.\n",
    "2. Among categorical variables, which have binary outcomes and which have more than two outcomes.\n",
    "3. Find number of strokes and non strokes in your dataset, and check if your dataset is imbalanced.\n",
    "4. Use **bmi** and **ever_married** as explanatory variables, take them as X. Split your dataset to train and test, test **20%** and random state **555**.\n",
    "5. Build two **logistic regression** models: one without interaction between independent variables and one with interaction. \n",
    "6. Test performance of each model on test dataset using **accuracy, precision and recall metrics**. Comment your results.\n",
    "\n",
    "***Hint: for interaction you need to create a new column.***"
   ]
  },
  {
   "cell_type": "code",
   "execution_count": 15,
   "id": "900e6ccf",
   "metadata": {},
   "outputs": [
    {
     "data": {
      "text/html": [
       "<div>\n",
       "<style scoped>\n",
       "    .dataframe tbody tr th:only-of-type {\n",
       "        vertical-align: middle;\n",
       "    }\n",
       "\n",
       "    .dataframe tbody tr th {\n",
       "        vertical-align: top;\n",
       "    }\n",
       "\n",
       "    .dataframe thead th {\n",
       "        text-align: right;\n",
       "    }\n",
       "</style>\n",
       "<table border=\"1\" class=\"dataframe\">\n",
       "  <thead>\n",
       "    <tr style=\"text-align: right;\">\n",
       "      <th></th>\n",
       "      <th>gender</th>\n",
       "      <th>age</th>\n",
       "      <th>hypertension</th>\n",
       "      <th>heart_disease</th>\n",
       "      <th>ever_married</th>\n",
       "      <th>work_type</th>\n",
       "      <th>Residence_type</th>\n",
       "      <th>avg_glucose_level</th>\n",
       "      <th>bmi</th>\n",
       "      <th>smoking_status</th>\n",
       "      <th>stroke</th>\n",
       "    </tr>\n",
       "  </thead>\n",
       "  <tbody>\n",
       "    <tr>\n",
       "      <th>0</th>\n",
       "      <td>Male</td>\n",
       "      <td>67.0</td>\n",
       "      <td>0</td>\n",
       "      <td>1</td>\n",
       "      <td>Yes</td>\n",
       "      <td>Private</td>\n",
       "      <td>Urban</td>\n",
       "      <td>228.69</td>\n",
       "      <td>36.6</td>\n",
       "      <td>formerly smoked</td>\n",
       "      <td>1</td>\n",
       "    </tr>\n",
       "    <tr>\n",
       "      <th>1</th>\n",
       "      <td>Male</td>\n",
       "      <td>80.0</td>\n",
       "      <td>0</td>\n",
       "      <td>1</td>\n",
       "      <td>Yes</td>\n",
       "      <td>Private</td>\n",
       "      <td>Rural</td>\n",
       "      <td>105.92</td>\n",
       "      <td>32.5</td>\n",
       "      <td>never smoked</td>\n",
       "      <td>1</td>\n",
       "    </tr>\n",
       "    <tr>\n",
       "      <th>2</th>\n",
       "      <td>Female</td>\n",
       "      <td>49.0</td>\n",
       "      <td>0</td>\n",
       "      <td>0</td>\n",
       "      <td>Yes</td>\n",
       "      <td>Private</td>\n",
       "      <td>Urban</td>\n",
       "      <td>171.23</td>\n",
       "      <td>34.4</td>\n",
       "      <td>smokes</td>\n",
       "      <td>1</td>\n",
       "    </tr>\n",
       "    <tr>\n",
       "      <th>3</th>\n",
       "      <td>Female</td>\n",
       "      <td>79.0</td>\n",
       "      <td>1</td>\n",
       "      <td>0</td>\n",
       "      <td>Yes</td>\n",
       "      <td>Self-employed</td>\n",
       "      <td>Rural</td>\n",
       "      <td>174.12</td>\n",
       "      <td>24.0</td>\n",
       "      <td>never smoked</td>\n",
       "      <td>1</td>\n",
       "    </tr>\n",
       "    <tr>\n",
       "      <th>4</th>\n",
       "      <td>Male</td>\n",
       "      <td>81.0</td>\n",
       "      <td>0</td>\n",
       "      <td>0</td>\n",
       "      <td>Yes</td>\n",
       "      <td>Private</td>\n",
       "      <td>Urban</td>\n",
       "      <td>186.21</td>\n",
       "      <td>29.0</td>\n",
       "      <td>formerly smoked</td>\n",
       "      <td>1</td>\n",
       "    </tr>\n",
       "  </tbody>\n",
       "</table>\n",
       "</div>"
      ],
      "text/plain": [
       "   gender   age  hypertension  heart_disease ever_married      work_type  \\\n",
       "0    Male  67.0             0              1          Yes        Private   \n",
       "1    Male  80.0             0              1          Yes        Private   \n",
       "2  Female  49.0             0              0          Yes        Private   \n",
       "3  Female  79.0             1              0          Yes  Self-employed   \n",
       "4    Male  81.0             0              0          Yes        Private   \n",
       "\n",
       "  Residence_type  avg_glucose_level   bmi   smoking_status  stroke  \n",
       "0          Urban             228.69  36.6  formerly smoked       1  \n",
       "1          Rural             105.92  32.5     never smoked       1  \n",
       "2          Urban             171.23  34.4           smokes       1  \n",
       "3          Rural             174.12  24.0     never smoked       1  \n",
       "4          Urban             186.21  29.0  formerly smoked       1  "
      ]
     },
     "execution_count": 15,
     "metadata": {},
     "output_type": "execute_result"
    }
   ],
   "source": [
    "# Please, write your code here\n",
    "df = pd.read_csv('stroke.csv')\n",
    "df.head()"
   ]
  },
  {
   "cell_type": "code",
   "execution_count": 16,
   "id": "603a016a-045d-4bcc-8fef-8a80169eabe6",
   "metadata": {},
   "outputs": [
    {
     "name": "stdout",
     "output_type": "stream",
     "text": [
      "<class 'pandas.core.frame.DataFrame'>\n",
      "RangeIndex: 4909 entries, 0 to 4908\n",
      "Data columns (total 11 columns):\n",
      " #   Column             Non-Null Count  Dtype  \n",
      "---  ------             --------------  -----  \n",
      " 0   gender             4909 non-null   object \n",
      " 1   age                4909 non-null   float64\n",
      " 2   hypertension       4909 non-null   int64  \n",
      " 3   heart_disease      4909 non-null   int64  \n",
      " 4   ever_married       4909 non-null   object \n",
      " 5   work_type          4909 non-null   object \n",
      " 6   Residence_type     4909 non-null   object \n",
      " 7   avg_glucose_level  4909 non-null   float64\n",
      " 8   bmi                4909 non-null   float64\n",
      " 9   smoking_status     4909 non-null   object \n",
      " 10  stroke             4909 non-null   int64  \n",
      "dtypes: float64(3), int64(3), object(5)\n",
      "memory usage: 422.0+ KB\n"
     ]
    }
   ],
   "source": [
    "df.info()"
   ]
  },
  {
   "cell_type": "markdown",
   "id": "207cca22-4b2a-40e8-abd9-21663e155821",
   "metadata": {},
   "source": [
    "### #1\n",
    "Independent numerical variables : bmi, avg_glucose_level, age\n",
    "<br>\n",
    "Independent categorical variables : gender, hypertension, heart_disease, ever_married, work_typejob, smoking_status"
   ]
  },
  {
   "cell_type": "code",
   "execution_count": 17,
   "id": "7c3251e9-c7fc-4c20-ab3e-1e707063b6c3",
   "metadata": {},
   "outputs": [
    {
     "data": {
      "text/html": [
       "<div>\n",
       "<style scoped>\n",
       "    .dataframe tbody tr th:only-of-type {\n",
       "        vertical-align: middle;\n",
       "    }\n",
       "\n",
       "    .dataframe tbody tr th {\n",
       "        vertical-align: top;\n",
       "    }\n",
       "\n",
       "    .dataframe thead th {\n",
       "        text-align: right;\n",
       "    }\n",
       "</style>\n",
       "<table border=\"1\" class=\"dataframe\">\n",
       "  <thead>\n",
       "    <tr style=\"text-align: right;\">\n",
       "      <th></th>\n",
       "      <th>gender</th>\n",
       "      <th>age</th>\n",
       "      <th>hypertension</th>\n",
       "      <th>heart_disease</th>\n",
       "      <th>ever_married</th>\n",
       "      <th>work_type</th>\n",
       "      <th>Residence_type</th>\n",
       "      <th>avg_glucose_level</th>\n",
       "      <th>bmi</th>\n",
       "      <th>smoking_status</th>\n",
       "      <th>stroke</th>\n",
       "    </tr>\n",
       "  </thead>\n",
       "  <tbody>\n",
       "    <tr>\n",
       "      <th>0</th>\n",
       "      <td>1</td>\n",
       "      <td>67.0</td>\n",
       "      <td>0</td>\n",
       "      <td>1</td>\n",
       "      <td>1</td>\n",
       "      <td>2</td>\n",
       "      <td>1</td>\n",
       "      <td>228.69</td>\n",
       "      <td>36.6</td>\n",
       "      <td>1</td>\n",
       "      <td>1</td>\n",
       "    </tr>\n",
       "    <tr>\n",
       "      <th>1</th>\n",
       "      <td>1</td>\n",
       "      <td>80.0</td>\n",
       "      <td>0</td>\n",
       "      <td>1</td>\n",
       "      <td>1</td>\n",
       "      <td>2</td>\n",
       "      <td>0</td>\n",
       "      <td>105.92</td>\n",
       "      <td>32.5</td>\n",
       "      <td>2</td>\n",
       "      <td>1</td>\n",
       "    </tr>\n",
       "    <tr>\n",
       "      <th>2</th>\n",
       "      <td>0</td>\n",
       "      <td>49.0</td>\n",
       "      <td>0</td>\n",
       "      <td>0</td>\n",
       "      <td>1</td>\n",
       "      <td>2</td>\n",
       "      <td>1</td>\n",
       "      <td>171.23</td>\n",
       "      <td>34.4</td>\n",
       "      <td>3</td>\n",
       "      <td>1</td>\n",
       "    </tr>\n",
       "    <tr>\n",
       "      <th>3</th>\n",
       "      <td>0</td>\n",
       "      <td>79.0</td>\n",
       "      <td>1</td>\n",
       "      <td>0</td>\n",
       "      <td>1</td>\n",
       "      <td>3</td>\n",
       "      <td>0</td>\n",
       "      <td>174.12</td>\n",
       "      <td>24.0</td>\n",
       "      <td>2</td>\n",
       "      <td>1</td>\n",
       "    </tr>\n",
       "    <tr>\n",
       "      <th>4</th>\n",
       "      <td>1</td>\n",
       "      <td>81.0</td>\n",
       "      <td>0</td>\n",
       "      <td>0</td>\n",
       "      <td>1</td>\n",
       "      <td>2</td>\n",
       "      <td>1</td>\n",
       "      <td>186.21</td>\n",
       "      <td>29.0</td>\n",
       "      <td>1</td>\n",
       "      <td>1</td>\n",
       "    </tr>\n",
       "  </tbody>\n",
       "</table>\n",
       "</div>"
      ],
      "text/plain": [
       "   gender   age  hypertension  heart_disease  ever_married  work_type  \\\n",
       "0       1  67.0             0              1             1          2   \n",
       "1       1  80.0             0              1             1          2   \n",
       "2       0  49.0             0              0             1          2   \n",
       "3       0  79.0             1              0             1          3   \n",
       "4       1  81.0             0              0             1          2   \n",
       "\n",
       "   Residence_type  avg_glucose_level   bmi  smoking_status  stroke  \n",
       "0               1             228.69  36.6               1       1  \n",
       "1               0             105.92  32.5               2       1  \n",
       "2               1             171.23  34.4               3       1  \n",
       "3               0             174.12  24.0               2       1  \n",
       "4               1             186.21  29.0               1       1  "
      ]
     },
     "execution_count": 17,
     "metadata": {},
     "output_type": "execute_result"
    }
   ],
   "source": [
    "for x in df.dtypes[df.dtypes == \"object\"].keys():\n",
    "    groups = list(df.groupby(x).count().index)\n",
    "    \n",
    "    for i, y in enumerate(groups):\n",
    "        df[x] = df[x].replace(y, i)\n",
    "    df[x] = df[x].astype(int)\n",
    "df.head()"
   ]
  },
  {
   "cell_type": "markdown",
   "id": "6edec516-8ce1-4e0a-87fd-6076b8dd59e8",
   "metadata": {},
   "source": [
    "### #2"
   ]
  },
  {
   "cell_type": "markdown",
   "id": "abefb651-99d7-4297-8205-d2dfda0032f1",
   "metadata": {},
   "source": [
    "Categorical variables with binary outcomes : hypertension, heart_disease, ever_married, Residence_type\n",
    "Categroical variables with multi outcomes : gender, smoking_status, work_type"
   ]
  },
  {
   "cell_type": "code",
   "execution_count": 18,
   "id": "efa9a9f1-03b5-4dc4-89a2-ad3de9aa71c6",
   "metadata": {},
   "outputs": [
    {
     "name": "stdout",
     "output_type": "stream",
     "text": [
      "gender: 3\n",
      "age: 104\n",
      "hypertension: 2\n",
      "heart_disease: 2\n",
      "ever_married: 2\n",
      "work_type: 5\n",
      "Residence_type: 2\n",
      "avg_glucose_level: 3852\n",
      "bmi: 418\n",
      "smoking_status: 4\n",
      "stroke: 2\n"
     ]
    }
   ],
   "source": [
    "for x in df.dtypes.keys():\n",
    "    groups = list(df.groupby(x).count().index)\n",
    "    print(x + \":\", len(groups))"
   ]
  },
  {
   "cell_type": "markdown",
   "id": "71701fc0-b384-4a09-b480-5b508d156a78",
   "metadata": {},
   "source": [
    "### #3"
   ]
  },
  {
   "cell_type": "code",
   "execution_count": 19,
   "id": "adc6eb80-d53d-48b6-b99f-e72163a10538",
   "metadata": {},
   "outputs": [
    {
     "data": {
      "text/html": [
       "<div>\n",
       "<style scoped>\n",
       "    .dataframe tbody tr th:only-of-type {\n",
       "        vertical-align: middle;\n",
       "    }\n",
       "\n",
       "    .dataframe tbody tr th {\n",
       "        vertical-align: top;\n",
       "    }\n",
       "\n",
       "    .dataframe thead th {\n",
       "        text-align: right;\n",
       "    }\n",
       "</style>\n",
       "<table border=\"1\" class=\"dataframe\">\n",
       "  <thead>\n",
       "    <tr style=\"text-align: right;\">\n",
       "      <th></th>\n",
       "      <th>gender</th>\n",
       "      <th>age</th>\n",
       "      <th>hypertension</th>\n",
       "      <th>heart_disease</th>\n",
       "      <th>ever_married</th>\n",
       "      <th>work_type</th>\n",
       "      <th>Residence_type</th>\n",
       "      <th>avg_glucose_level</th>\n",
       "      <th>bmi</th>\n",
       "      <th>smoking_status</th>\n",
       "    </tr>\n",
       "    <tr>\n",
       "      <th>stroke</th>\n",
       "      <th></th>\n",
       "      <th></th>\n",
       "      <th></th>\n",
       "      <th></th>\n",
       "      <th></th>\n",
       "      <th></th>\n",
       "      <th></th>\n",
       "      <th></th>\n",
       "      <th></th>\n",
       "      <th></th>\n",
       "    </tr>\n",
       "  </thead>\n",
       "  <tbody>\n",
       "    <tr>\n",
       "      <th>0</th>\n",
       "      <td>4700</td>\n",
       "      <td>4700</td>\n",
       "      <td>4700</td>\n",
       "      <td>4700</td>\n",
       "      <td>4700</td>\n",
       "      <td>4700</td>\n",
       "      <td>4700</td>\n",
       "      <td>4700</td>\n",
       "      <td>4700</td>\n",
       "      <td>4700</td>\n",
       "    </tr>\n",
       "    <tr>\n",
       "      <th>1</th>\n",
       "      <td>209</td>\n",
       "      <td>209</td>\n",
       "      <td>209</td>\n",
       "      <td>209</td>\n",
       "      <td>209</td>\n",
       "      <td>209</td>\n",
       "      <td>209</td>\n",
       "      <td>209</td>\n",
       "      <td>209</td>\n",
       "      <td>209</td>\n",
       "    </tr>\n",
       "  </tbody>\n",
       "</table>\n",
       "</div>"
      ],
      "text/plain": [
       "        gender   age  hypertension  heart_disease  ever_married  work_type  \\\n",
       "stroke                                                                       \n",
       "0         4700  4700          4700           4700          4700       4700   \n",
       "1          209   209           209            209           209        209   \n",
       "\n",
       "        Residence_type  avg_glucose_level   bmi  smoking_status  \n",
       "stroke                                                           \n",
       "0                 4700               4700  4700            4700  \n",
       "1                  209                209   209             209  "
      ]
     },
     "execution_count": 19,
     "metadata": {},
     "output_type": "execute_result"
    }
   ],
   "source": [
    "df.groupby(\"stroke\").count()"
   ]
  },
  {
   "cell_type": "code",
   "execution_count": 20,
   "id": "722aaf4d-10e2-4e00-9180-be3ba1abfeb6",
   "metadata": {},
   "outputs": [
    {
     "data": {
      "text/plain": [
       "1    209\n",
       "0    209\n",
       "Name: stroke, dtype: int64"
      ]
     },
     "execution_count": 20,
     "metadata": {},
     "output_type": "execute_result"
    }
   ],
   "source": [
    "from sklearn.utils import resample\n",
    "\n",
    "df_majority = df[df.stroke==0]\n",
    "df_minority = df[df.stroke==1]\n",
    "df_majority_upsampled = resample(df_majority,replace=True,n_samples=209,random_state=555)\n",
    "df_upsampled = pd.concat([df_minority, df_majority_upsampled])\n",
    "df_upsampled.stroke.value_counts()"
   ]
  },
  {
   "cell_type": "markdown",
   "id": "38d33f09-3106-4227-af24-c5885c86faa8",
   "metadata": {},
   "source": [
    "### #4"
   ]
  },
  {
   "cell_type": "code",
   "execution_count": 21,
   "id": "7e5dd340-b4c7-4faf-be31-3d14a8470f61",
   "metadata": {},
   "outputs": [],
   "source": [
    "X = df_upsampled[[\"bmi\", \"ever_married\"]]\n",
    "y = df_upsampled[\"stroke\"]\n",
    "X_train, X_test, y_train, y_test = train_test_split(X, y, test_size=0.25, random_state=555)"
   ]
  },
  {
   "cell_type": "markdown",
   "id": "0b9eaac1-45ee-428a-bf8e-dd5a9d1db694",
   "metadata": {},
   "source": [
    "### #5 and #6"
   ]
  },
  {
   "cell_type": "code",
   "execution_count": 22,
   "id": "141f38b8-9790-435e-84e9-c2519b6cb75e",
   "metadata": {},
   "outputs": [
    {
     "name": "stdout",
     "output_type": "stream",
     "text": [
      "Accuracy:  0.6\n",
      "Precision:  0.9361702127659575\n",
      "Recall:  0.5301204819277109\n"
     ]
    }
   ],
   "source": [
    "from sklearn.linear_model import LogisticRegression\n",
    "from sklearn.metrics import accuracy_score, precision_score, recall_score\n",
    "\n",
    "lr = LogisticRegression().fit(X_train, y_train)\n",
    "y_pred = lr.predict(X_test)\n",
    "print(\"Accuracy: \", accuracy_score(y_pred, y_test))\n",
    "print(\"Precision: \", precision_score(y_pred, y_test))\n",
    "print(\"Recall: \", recall_score(y_pred, y_test))"
   ]
  },
  {
   "cell_type": "code",
   "execution_count": 23,
   "id": "2a30fb45-b5d0-4f97-9f02-3d285fc0d6f4",
   "metadata": {},
   "outputs": [],
   "source": [
    "X = df_upsampled.drop(columns=\"stroke\")\n",
    "y = df_upsampled[\"stroke\"]\n",
    "X_train, X_test, y_train, y_test = train_test_split(X, y, test_size=0.25, random_state=555)"
   ]
  },
  {
   "cell_type": "code",
   "execution_count": 24,
   "id": "e619deae-31ad-4a72-b5a3-65cacd2260e2",
   "metadata": {},
   "outputs": [
    {
     "name": "stdout",
     "output_type": "stream",
     "text": [
      "Accuracy:  0.780952380952381\n",
      "Precision:  0.8085106382978723\n",
      "Recall:  0.7307692307692307\n"
     ]
    },
    {
     "name": "stderr",
     "output_type": "stream",
     "text": [
      "C:\\Users\\Acer\\anaconda3\\lib\\site-packages\\sklearn\\linear_model\\_logistic.py:763: ConvergenceWarning: lbfgs failed to converge (status=1):\n",
      "STOP: TOTAL NO. of ITERATIONS REACHED LIMIT.\n",
      "\n",
      "Increase the number of iterations (max_iter) or scale the data as shown in:\n",
      "    https://scikit-learn.org/stable/modules/preprocessing.html\n",
      "Please also refer to the documentation for alternative solver options:\n",
      "    https://scikit-learn.org/stable/modules/linear_model.html#logistic-regression\n",
      "  n_iter_i = _check_optimize_result(\n"
     ]
    }
   ],
   "source": [
    "from sklearn.linear_model import LogisticRegression\n",
    "from sklearn.metrics import accuracy_score, precision_score, recall_score\n",
    "\n",
    "lr = LogisticRegression().fit(X, y)\n",
    "y_pred = lr.predict(X_test)\n",
    "print(\"Accuracy: \", accuracy_score(y_pred, y_test))\n",
    "print(\"Precision: \", precision_score(y_pred, y_test))\n",
    "print(\"Recall: \", recall_score(y_pred, y_test))"
   ]
  },
  {
   "cell_type": "markdown",
   "id": "aae77fec",
   "metadata": {},
   "source": [
    "---\n",
    "\n",
    "### Evaluation (Keep it!)\n",
    "\n",
    "| Question | Mark     | Comment   \n",
    "|:-------:|:--------:|:----------------------\n",
    "| 1       |   35/35    |     \n",
    "| 2       |   30/30 | \n",
    "| 3       |   35/35     |     \n",
    "|**Total**|**100/100**  | \n"
   ]
  }
 ],
 "metadata": {
  "kernelspec": {
   "display_name": "Python 3 (ipykernel)",
   "language": "python",
   "name": "python3"
  },
  "language_info": {
   "codemirror_mode": {
    "name": "ipython",
    "version": 3
   },
   "file_extension": ".py",
   "mimetype": "text/x-python",
   "name": "python",
   "nbconvert_exporter": "python",
   "pygments_lexer": "ipython3",
   "version": "3.9.7"
  }
 },
 "nbformat": 4,
 "nbformat_minor": 5
}
