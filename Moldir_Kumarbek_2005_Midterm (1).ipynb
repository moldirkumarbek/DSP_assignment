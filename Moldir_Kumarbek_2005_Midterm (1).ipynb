{
 "cells": [
  {
   "cell_type": "markdown",
   "id": "6f96a52a",
   "metadata": {},
   "source": [
    "# DSP1: Midterm\n",
    "\n",
    "### Date: January 19\n",
    "\n",
    "### Time: 18:10 - 19:40\n",
    "\n",
    "\n",
    "**Instructions:** \n",
    "* All answers should be filled in the notebook and then submitted to Moodle;\n",
    "* For theoretical question you can use markdown and LaTeX;\n",
    "* Save number of cells used for compilation;\n",
    "* In order to get max scores, please write explanations and comments for each step. In addition, try to comment you code pieces. Use your knowledge of visualising from previous course."
   ]
  },
  {
   "cell_type": "code",
   "execution_count": 1,
   "id": "02b2cb58-e97f-49e4-be45-f07730758b61",
   "metadata": {},
   "outputs": [],
   "source": [
    "import numpy as np\n",
    "import pandas as pd\n",
    "import matplotlib.pyplot as plt\n",
    "import seaborn as sns\n",
    "from scipy.stats import norm\n",
    "from scipy.stats import t\n",
    "from scipy import stats\n",
    "import statistics as st\n",
    "import math\n",
    "%matplotlib inline"
   ]
  },
  {
   "cell_type": "markdown",
   "id": "5a93092a",
   "metadata": {},
   "source": [
    "## Problem 1 (20%)\n",
    "Imagine you are studying salaries of Data Scientists in Kazakhstan. It is known that the salaries are Normally distributed with a mean of 550k tenge and standard deviation of 65k tenge. Based on that information, answer the following questions: \n",
    "\n",
    "1. Find the most frequently paid salary level. Justify your answer.\n",
    "2. Find the minimum salary level that corresponds among Top 10% salaries of Data Scientists.\n",
    "3. For a randomly selected data scientist, find the probability of his salary being between 500k and 600k tenge?\n",
    "4. If we have a sample of 200 data scientiest, how many of them should have salary above 625 tenge? Round your answer to the closest integer."
   ]
  },
  {
   "cell_type": "markdown",
   "id": "e2ffe430-6af7-4338-934d-5fb4407d9ea6",
   "metadata": {},
   "source": [
    "##### 1\n",
    "## mode = mean = mediana\n",
    "## so it will be 550"
   ]
  },
  {
   "cell_type": "code",
   "execution_count": 21,
   "id": "7d1a82f6-4698-4886-80f1-69f934f0c25d",
   "metadata": {},
   "outputs": [
    {
     "ename": "NameError",
     "evalue": "name 'mu' is not defined",
     "output_type": "error",
     "traceback": [
      "\u001b[1;31m---------------------------------------------------------------------------\u001b[0m",
      "\u001b[1;31mNameError\u001b[0m                                 Traceback (most recent call last)",
      "\u001b[1;32m<ipython-input-21-5ec00351151e>\u001b[0m in \u001b[0;36m<module>\u001b[1;34m\u001b[0m\n\u001b[0;32m      1\u001b[0m \u001b[1;31m#2\u001b[0m\u001b[1;33m\u001b[0m\u001b[1;33m\u001b[0m\u001b[1;33m\u001b[0m\u001b[0m\n\u001b[1;32m----> 2\u001b[1;33m \u001b[0mci_90\u001b[0m \u001b[1;33m=\u001b[0m \u001b[0mnorm\u001b[0m\u001b[1;33m.\u001b[0m\u001b[0minterval\u001b[0m\u001b[1;33m(\u001b[0m\u001b[0malpha\u001b[0m \u001b[1;33m=\u001b[0m \u001b[1;36m0.90\u001b[0m\u001b[1;33m,\u001b[0m\u001b[0mloc\u001b[0m \u001b[1;33m=\u001b[0m \u001b[0mmu\u001b[0m\u001b[1;33m,\u001b[0m\u001b[0mscale\u001b[0m \u001b[1;33m=\u001b[0m \u001b[0msigma\u001b[0m\u001b[1;33m)\u001b[0m\u001b[1;33m\u001b[0m\u001b[1;33m\u001b[0m\u001b[0m\n\u001b[0m\u001b[0;32m      3\u001b[0m \u001b[0mprint\u001b[0m\u001b[1;33m(\u001b[0m\u001b[1;34mf'Min:{ci_90[1]}'\u001b[0m\u001b[1;33m)\u001b[0m\u001b[1;33m\u001b[0m\u001b[1;33m\u001b[0m\u001b[0m\n",
      "\u001b[1;31mNameError\u001b[0m: name 'mu' is not defined"
     ]
    }
   ],
   "source": [
    "#2\n",
    "ci_90 = norm.interval(alpha = 0.90,loc = mu,scale = sigma)\n",
    "print(f'Min:{ci_90[1]}')"
   ]
  },
  {
   "cell_type": "code",
   "execution_count": 6,
   "id": "76251b27-f9d3-4d00-86b9-60e72125fa2d",
   "metadata": {},
   "outputs": [
    {
     "name": "stdout",
     "output_type": "stream",
     "text": [
      "0.5582\n"
     ]
    }
   ],
   "source": [
    "#3\n",
    "task3 = norm(550,65).cdf(600) - norm(550,65).cdf(500)\n",
    "print(round(task3,4))"
   ]
  },
  {
   "cell_type": "code",
   "execution_count": 20,
   "id": "42ae0c4e-a4e1-4815-a28f-18dc5e446f17",
   "metadata": {},
   "outputs": [
    {
     "data": {
      "text/plain": [
       "3.580540643023629e-163"
      ]
     },
     "execution_count": 20,
     "metadata": {},
     "output_type": "execute_result"
    }
   ],
   "source": [
    "#4\n",
    "n = 200\n",
    "x = 625\n",
    "mean = 550\n",
    "std = 65\n",
    "\n",
    "stdev = 65/math.sqrt(200)\n",
    "stats.norm(loc = 500,scale=stdev).sf(625)"
   ]
  },
  {
   "cell_type": "markdown",
   "id": "989af604",
   "metadata": {},
   "source": [
    "## Problem 2 (20%)\n",
    "Imagine you are studying student average daily spending. You have sample for that data (sample_2 below).\n",
    "Tasks to do:\n",
    "1. Based on this sample countruct 95% confidence interval for population mean of student daily spending. Describe steps that you do and provide assumptions if you made any. \n",
    "2. Is there an evidence that average daily spending of students is lower than 40 USD per day?"
   ]
  },
  {
   "cell_type": "code",
   "execution_count": 9,
   "id": "81b248bb",
   "metadata": {},
   "outputs": [],
   "source": [
    "# Note that data is provided in USD. \n",
    "sample_2 = [45, 25, 30, 35, 28, 41, 56, 38, 42, 25, 37, 23, 42, 50, 28, 34, 43, 30, 26, 22, 29, 32, 30, 44, 49]"
   ]
  },
  {
   "cell_type": "code",
   "execution_count": 15,
   "id": "41496bc4",
   "metadata": {},
   "outputs": [
    {
     "name": "stdout",
     "output_type": "stream",
     "text": [
      "Lower: 31.725\n",
      "Upper: 38.995\n",
      "------------------\n",
      "Mean: 35.36\n"
     ]
    }
   ],
   "source": [
    "# Please, write your code here\n",
    "x_bar = st.mean(sample_2)\n",
    "size = len(sample_2)\n",
    "sigma = st.stdev(sample_2)\n",
    "\n",
    "error = sigma/st.sqrt(size)\n",
    "\n",
    "ci_95 = norm.interval(alpha = 0.95, loc = x_bar, scale = error)\n",
    "\n",
    "print('Lower:', round(ci_95[0],3))\n",
    "print('Upper:', round(ci_95[1],3))\n",
    "print('------------------')\n",
    "print('Mean:', x_bar)\n"
   ]
  },
  {
   "cell_type": "markdown",
   "id": "530683c2",
   "metadata": {},
   "source": [
    "## Problem 3 (30%)\n",
    "Imagine you are studying GPA of students at AITU. You get a sample of 40 students, and obtained sample mean of 3.3 and sample standard deviation 0.35. \n",
    "1. Construct 95% and 99% confidence intervals for mean GPA. \n",
    "2. Show the width of each interval. Explain how different factors affect to the width of the interval.\n",
    "2. For 99% confidence interval, how many more observations should be added to the sample, so that confidence interval for μ was within 0.1 unit?"
   ]
  },
  {
   "cell_type": "code",
   "execution_count": 22,
   "id": "650ff0f5",
   "metadata": {},
   "outputs": [
    {
     "name": "stdout",
     "output_type": "stream",
     "text": [
      "Lower bound for 95% confidence: 3.192\n",
      "Upper bound for 99% confidence: 3.408\n",
      "\n",
      "Lower bound for 95% confidence: 3.157\n",
      "Upper bound for 99% confidence: 3.443\n"
     ]
    }
   ],
   "source": [
    "# Please, write your code here\n",
    "#1\n",
    "mean = 3.3\n",
    "sigma = 0.35\n",
    "size = 40\n",
    "\n",
    "z_val_95 = stats.norm.ppf(0.975)\n",
    "z_val_99 = stats.norm.ppf(0.995)\n",
    "\n",
    "lower_bound_95 = mean - z_val_95 * sigma/np.sqrt(size)\n",
    "upper_bound_95 = mean + z_val_95 * sigma/np.sqrt(size)\n",
    "\n",
    "lower_bound_99 = mean - z_val_99 * sigma/np.sqrt(size)\n",
    "upper_bound_99 = mean + z_val_99 * sigma/np.sqrt(size)\n",
    "\n",
    "print('Lower bound for 95% confidence:', round(lower_bound_95, 3))\n",
    "print('Upper bound for 99% confidence:', round(upper_bound_95, 3))\n",
    "print()\n",
    "print('Lower bound for 95% confidence:', round(lower_bound_99, 3))\n",
    "print('Upper bound for 99% confidence:', round(upper_bound_99, 3))"
   ]
  },
  {
   "cell_type": "code",
   "execution_count": 27,
   "id": "5a2c2cb2-f73a-4124-8e8a-8385c960892d",
   "metadata": {},
   "outputs": [
    {
     "name": "stdout",
     "output_type": "stream",
     "text": [
      "Width 95: 0.217\n",
      "Width 99: 0.285\n"
     ]
    }
   ],
   "source": [
    "#2\n",
    "w_ci_95 = upper_bound_95 - lower_bound_95\n",
    "w_ci_99 = upper_bound_99 - lower_bound_99\n",
    "\n",
    "print('Width 95:',(np.round(w_ci_95,3)))\n",
    "print('Width 99:',(np.round(w_ci_99,3)))"
   ]
  },
  {
   "cell_type": "code",
   "execution_count": null,
   "id": "62bad5b6-3cd4-4070-b1f0-ac8c11e16e10",
   "metadata": {},
   "outputs": [],
   "source": [
    "#3\n"
   ]
  },
  {
   "cell_type": "markdown",
   "id": "c821ea27",
   "metadata": {},
   "source": [
    "## Problem 4 (30%)\n",
    "Imagine you are studying performance of school graduates at ENT and you have data for two different schools (KTL and NIS). Data provided below. Tasks to do:\n",
    "1. Test the hypothesis that the average ENT score is more than 100 for KTL. Use both critical region approach and P-value approach.\n",
    "2. Test the hypothesis that two schools had similar performance on ENT. Use only one of the two approaches.\n",
    "\n",
    "State the hypothesis, and then perform the test. Choose correct procedure of choosing significance levels. Derive proper conclusion in the context of the problem."
   ]
  },
  {
   "cell_type": "code",
   "execution_count": 28,
   "id": "f2521f47",
   "metadata": {},
   "outputs": [],
   "source": [
    "data_ktl = [88, 91, 86, 92, 90, 93, 95, 78, 87, 98, 82,  117, 138, 97,\n",
    "            120, 119, 108, 103, 121, 139, 88, 95, 106, 110, 123, 90,\n",
    "           129, 102, 136, 119, 121, 114, 122, 103, 81, 75,  133, 119,\n",
    "           105, 125, 103, 97, 126, 118, 104, 112, 100, 92, 121]"
   ]
  },
  {
   "cell_type": "code",
   "execution_count": 29,
   "id": "ad6ac979",
   "metadata": {},
   "outputs": [],
   "source": [
    "data_nis = [72, 93, 95, 117, 94, 97, 103, 97, 80, 103, 84, 88, \n",
    "            120, 119, 108,  92, 82, 88, 95, 106, 110, 99, 90, \n",
    "            77, 102, 78, 87, 98, 82, 119, 72, 84, 103, 81, 75,   \n",
    "            105, 78,  104, 100, 92, 99, 91, 86, 100]"
   ]
  },
  {
   "cell_type": "code",
   "execution_count": 30,
   "id": "a9c61514",
   "metadata": {},
   "outputs": [],
   "source": [
    "# Please, write your code here\n"
   ]
  },
  {
   "cell_type": "markdown",
   "id": "aae77fec",
   "metadata": {},
   "source": [
    "---\n",
    "\n",
    "### Evaluation (Keep it!)\n",
    "\n",
    "| Question | Mark     | Comment   \n",
    "|:-------:|:--------:|:----------------------\n",
    "| 1       |   20/20    |     \n",
    "| 2       |   20/20 | \n",
    "| 3       |   30/30    |     \n",
    "| 4       |   30/30 | \n",
    "|**Total**|**100/100**  | \n"
   ]
  }
 ],
 "metadata": {
  "kernelspec": {
   "display_name": "Python 3",
   "language": "python",
   "name": "python3"
  },
  "language_info": {
   "codemirror_mode": {
    "name": "ipython",
    "version": 3
   },
   "file_extension": ".py",
   "mimetype": "text/x-python",
   "name": "python",
   "nbconvert_exporter": "python",
   "pygments_lexer": "ipython3",
   "version": "3.8.8"
  }
 },
 "nbformat": 4,
 "nbformat_minor": 5
}
