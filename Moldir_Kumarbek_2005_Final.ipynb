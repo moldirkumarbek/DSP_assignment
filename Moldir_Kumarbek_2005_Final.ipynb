{
 "cells": [
  {
   "cell_type": "markdown",
   "id": "6f96a52a",
   "metadata": {},
   "source": [
    "# DSP1: Final exam\n",
    "\n",
    "### Date: March 4\n",
    "\n",
    "### Time: 15:00 - 17:00\n",
    "\n",
    "**Instructions:** \n",
    "* Write your full name and group number in the title of file;\n",
    "* All answers should be filled in the notebook and then submitted to Moodle;\n",
    "* Try to use fewer cells for compilation (for example, you can use print for several answers, instead of printing each answer on a separate cell)\n",
    "* **IMPORTANT NOTE:** you will get points only for correct answers, not for trials or wrong answers. Your notebook should run if I will press **\"Restart Kernel\"** and then press **\"Run All\"**. I am going to check answers only after doing that. If the code do not compile, you will not get full mark. "
   ]
  },
  {
   "cell_type": "markdown",
   "id": "13f7058a",
   "metadata": {},
   "source": [
    "## Use the dataset with car prices - cars.csv, you will need it for all questions."
   ]
  },
  {
   "cell_type": "code",
   "execution_count": 1,
   "id": "e3152a9e",
   "metadata": {},
   "outputs": [
    {
     "data": {
      "text/html": [
       "<div>\n",
       "<style scoped>\n",
       "    .dataframe tbody tr th:only-of-type {\n",
       "        vertical-align: middle;\n",
       "    }\n",
       "\n",
       "    .dataframe tbody tr th {\n",
       "        vertical-align: top;\n",
       "    }\n",
       "\n",
       "    .dataframe thead th {\n",
       "        text-align: right;\n",
       "    }\n",
       "</style>\n",
       "<table border=\"1\" class=\"dataframe\">\n",
       "  <thead>\n",
       "    <tr style=\"text-align: right;\">\n",
       "      <th></th>\n",
       "      <th>model</th>\n",
       "      <th>year</th>\n",
       "      <th>price</th>\n",
       "      <th>transmission</th>\n",
       "      <th>mileage</th>\n",
       "      <th>fuelType</th>\n",
       "      <th>tax</th>\n",
       "      <th>mpg</th>\n",
       "      <th>engineSize</th>\n",
       "      <th>carBrand</th>\n",
       "      <th>BrandModel</th>\n",
       "    </tr>\n",
       "  </thead>\n",
       "  <tbody>\n",
       "    <tr>\n",
       "      <th>0</th>\n",
       "      <td>A1</td>\n",
       "      <td>2017</td>\n",
       "      <td>12500</td>\n",
       "      <td>Manual</td>\n",
       "      <td>15735</td>\n",
       "      <td>Petrol</td>\n",
       "      <td>150</td>\n",
       "      <td>55.4</td>\n",
       "      <td>1.4</td>\n",
       "      <td>Audi</td>\n",
       "      <td>Audi -  A1</td>\n",
       "    </tr>\n",
       "    <tr>\n",
       "      <th>1</th>\n",
       "      <td>A6</td>\n",
       "      <td>2016</td>\n",
       "      <td>16500</td>\n",
       "      <td>Automatic</td>\n",
       "      <td>36203</td>\n",
       "      <td>Diesel</td>\n",
       "      <td>20</td>\n",
       "      <td>64.2</td>\n",
       "      <td>2.0</td>\n",
       "      <td>Audi</td>\n",
       "      <td>Audi -  A6</td>\n",
       "    </tr>\n",
       "    <tr>\n",
       "      <th>2</th>\n",
       "      <td>A1</td>\n",
       "      <td>2016</td>\n",
       "      <td>11000</td>\n",
       "      <td>Manual</td>\n",
       "      <td>29946</td>\n",
       "      <td>Petrol</td>\n",
       "      <td>30</td>\n",
       "      <td>55.4</td>\n",
       "      <td>1.4</td>\n",
       "      <td>Audi</td>\n",
       "      <td>Audi -  A1</td>\n",
       "    </tr>\n",
       "    <tr>\n",
       "      <th>3</th>\n",
       "      <td>A4</td>\n",
       "      <td>2017</td>\n",
       "      <td>16800</td>\n",
       "      <td>Automatic</td>\n",
       "      <td>25952</td>\n",
       "      <td>Diesel</td>\n",
       "      <td>145</td>\n",
       "      <td>67.3</td>\n",
       "      <td>2.0</td>\n",
       "      <td>Audi</td>\n",
       "      <td>Audi -  A4</td>\n",
       "    </tr>\n",
       "    <tr>\n",
       "      <th>4</th>\n",
       "      <td>A3</td>\n",
       "      <td>2019</td>\n",
       "      <td>17300</td>\n",
       "      <td>Manual</td>\n",
       "      <td>1998</td>\n",
       "      <td>Petrol</td>\n",
       "      <td>145</td>\n",
       "      <td>49.6</td>\n",
       "      <td>1.0</td>\n",
       "      <td>Audi</td>\n",
       "      <td>Audi -  A3</td>\n",
       "    </tr>\n",
       "  </tbody>\n",
       "</table>\n",
       "</div>"
      ],
      "text/plain": [
       "  model  year  price transmission  mileage fuelType  tax   mpg  engineSize  \\\n",
       "0    A1  2017  12500       Manual    15735   Petrol  150  55.4         1.4   \n",
       "1    A6  2016  16500    Automatic    36203   Diesel   20  64.2         2.0   \n",
       "2    A1  2016  11000       Manual    29946   Petrol   30  55.4         1.4   \n",
       "3    A4  2017  16800    Automatic    25952   Diesel  145  67.3         2.0   \n",
       "4    A3  2019  17300       Manual     1998   Petrol  145  49.6         1.0   \n",
       "\n",
       "  carBrand  BrandModel  \n",
       "0     Audi  Audi -  A1  \n",
       "1     Audi  Audi -  A6  \n",
       "2     Audi  Audi -  A1  \n",
       "3     Audi  Audi -  A4  \n",
       "4     Audi  Audi -  A3  "
      ]
     },
     "execution_count": 1,
     "metadata": {},
     "output_type": "execute_result"
    }
   ],
   "source": [
    "import pandas as pd\n",
    "import numpy as np\n",
    "from scipy.stats import norm\n",
    "from scipy import stats\n",
    "import math\n",
    "import seaborn as sns\n",
    "import matplotlib.pyplot as plt\n",
    "\n",
    "cars = pd.read_csv('cars.csv')\n",
    "cars.head()"
   ]
  },
  {
   "cell_type": "markdown",
   "id": "4d5bcf6b",
   "metadata": {},
   "source": [
    "## Q1 (10%)\n",
    "Among the variables price, tax, mpg and engineSize, which one seems to be approximately normally distributed? Prove your answer."
   ]
  },
  {
   "cell_type": "code",
   "execution_count": 2,
   "id": "f84f423c",
   "metadata": {},
   "outputs": [],
   "source": [
    "def dis(data):\n",
    "    print(\"Mean: \" + str(data.mean()))\n",
    "    print(\"Median: \" + str(data.median()))\n",
    "    print(\"Mode:  \" + str(data.mode().values[0]))"
   ]
  },
  {
   "cell_type": "code",
   "execution_count": 3,
   "id": "572569ae-4040-49aa-8122-6d6d13611574",
   "metadata": {},
   "outputs": [
    {
     "name": "stdout",
     "output_type": "stream",
     "text": [
      "Price:\n",
      "Mean: 23529.611490395742\n",
      "Median: 21000.0\n",
      "Mode:  19995\n",
      "Tax:\n",
      "Mean: 129.2893716732238\n",
      "Median: 145.0\n",
      "Mode:  145\n",
      "Mpg:\n",
      "Mean: 54.190063064102105\n",
      "Median: 52.3\n",
      "Mode:  56.5\n",
      "Tax:\n",
      "Mean: 129.2893716732238\n",
      "Median: 145.0\n",
      "Mode:  145\n"
     ]
    }
   ],
   "source": [
    "print('Price:')\n",
    "dis(cars['price'])\n",
    "print('Tax:')\n",
    "dis(cars['tax'])\n",
    "print('Mpg:')\n",
    "dis(cars['mpg'])\n",
    "print('Tax:')\n",
    "dis(cars['tax'])"
   ]
  },
  {
   "cell_type": "code",
   "execution_count": 4,
   "id": "2fbe2e81-59bd-4d7c-b6a8-26ba1af1b091",
   "metadata": {},
   "outputs": [],
   "source": [
    "def emp_rule(data):\n",
    "    \n",
    "    oneStd1 = norm.cdf(x = data.mean() - data.std(), loc = data.mean(), scale = data.std())\n",
    "    oneStd2 = norm.cdf(x = data.mean() + data.std(), loc = data.mean(), scale = data.std())\n",
    "\n",
    "    print(f'{(oneStd2 - oneStd1).round(4) * 100} % ~ 68.25 %')\n",
    "\n",
    "    twoStd1 = norm.cdf(x = data.mean() - 2*data.std(), loc = data.mean(), scale = data.std())\n",
    "    twoStd2 = norm.cdf(x = data.mean() + 2*data.std(), loc = data.mean(), scale = data.std())\n",
    "\n",
    "    print(f'{(twoStd2 - twoStd1).round(4) * 100} % ~ 95 %')\n",
    "\n",
    "    threeStd1 = norm.cdf(x = data.mean() - 3*data.std(), loc = data.mean(), scale = data.std())\n",
    "    threeStd2 = norm.cdf(x = data.mean() + 3*data.std(), loc = data.mean(), scale = data.std())\n",
    "\n",
    "    print(f'{(threeStd2 - threeStd1).round(3) * 100} % ~ 99 %')\n"
   ]
  },
  {
   "cell_type": "code",
   "execution_count": 5,
   "id": "2e068452-1bf7-43b6-934b-7f344bd22cbd",
   "metadata": {},
   "outputs": [
    {
     "name": "stdout",
     "output_type": "stream",
     "text": [
      "Price:\n",
      "68.27 % ~ 68.25 %\n",
      "95.45 % ~ 95 %\n",
      "99.7 % ~ 99 %\n",
      "Tax:\n",
      "68.27 % ~ 68.25 %\n",
      "95.45 % ~ 95 %\n",
      "99.7 % ~ 99 %\n",
      "Mpg:\n",
      "68.27 % ~ 68.25 %\n",
      "95.45 % ~ 95 %\n",
      "99.7 % ~ 99 %\n",
      "Tax:\n",
      "68.27 % ~ 68.25 %\n",
      "95.45 % ~ 95 %\n",
      "99.7 % ~ 99 %\n"
     ]
    }
   ],
   "source": [
    "print('Price:')\n",
    "emp_rule(cars['price'])\n",
    "\n",
    "print('Tax:')\n",
    "emp_rule(cars['tax'])\n",
    "\n",
    "print('Mpg:')\n",
    "emp_rule(cars['mpg'])\n",
    "\n",
    "print('Tax:')\n",
    "emp_rule(cars['tax'])\n",
    "\n"
   ]
  },
  {
   "cell_type": "code",
   "execution_count": 6,
   "id": "5440b35c-1dfe-4212-be60-d37618619b04",
   "metadata": {},
   "outputs": [
    {
     "name": "stdout",
     "output_type": "stream",
     "text": [
      "Price:\n"
     ]
    },
    {
     "data": {
      "image/png": "[encoded data removed]",
      "text/plain": [
       "<Figure size 360x360 with 1 Axes>"
      ]
     },
     "metadata": {
      "needs_background": "light"
     },
     "output_type": "display_data"
    }
   ],
   "source": [
    "def grams(data):\n",
    "    plt.figure(figsize = (5, 5))\n",
    "    sns.histplot(data, bins = 15, kde = True)\n",
    "\n",
    "print('Price:')\n",
    "grams(cars['price'])"
   ]
  },
  {
   "cell_type": "code",
   "execution_count": 7,
   "id": "1c538671-7fa0-4fa8-a022-b87c5e1d5161",
   "metadata": {},
   "outputs": [
    {
     "name": "stdout",
     "output_type": "stream",
     "text": [
      "\n",
      "Tax:\n"
     ]
    },
    {
     "data": {
      "image/png": "[encoded data removed]",
      "text/plain": [
       "<Figure size 360x360 with 1 Axes>"
      ]
     },
     "metadata": {
      "needs_background": "light"
     },
     "output_type": "display_data"
    }
   ],
   "source": [
    "print('\\nTax:')\n",
    "grams(cars['tax'])"
   ]
  },
  {
   "cell_type": "code",
   "execution_count": 8,
   "id": "7898bff9-ff56-4412-aa11-54ad618dc60a",
   "metadata": {},
   "outputs": [
    {
     "name": "stdout",
     "output_type": "stream",
     "text": [
      "\n",
      "Mpg:\n"
     ]
    },
    {
     "data": {
      "image/png": "[encoded data removed]",
      "text/plain": [
       "<Figure size 360x360 with 1 Axes>"
      ]
     },
     "metadata": {
      "needs_background": "light"
     },
     "output_type": "display_data"
    }
   ],
   "source": [
    "print('\\nMpg:')\n",
    "grams(cars['mpg'])"
   ]
  },
  {
   "cell_type": "code",
   "execution_count": 9,
   "id": "faad7155-7153-4979-9a51-68ece50b7ea8",
   "metadata": {},
   "outputs": [
    {
     "name": "stdout",
     "output_type": "stream",
     "text": [
      "\n",
      "Tax:\n"
     ]
    },
    {
     "data": {
      "image/png": "[encoded data removed]",
      "text/plain": [
       "<Figure size 360x360 with 1 Axes>"
      ]
     },
     "metadata": {
      "needs_background": "light"
     },
     "output_type": "display_data"
    }
   ],
   "source": [
    "print('\\nTax:')\n",
    "grams(cars['tax'])"
   ]
  },
  {
   "cell_type": "markdown",
   "id": "77a91e08-a10e-4bc7-af41-4a8fd9cd7405",
   "metadata": {},
   "source": [
    "#### The end: The normal distribution is a continuous probability distribution that is symmetrical around its mean, most of the observations cluster around the central peak, and the probabilities for values further away from the mean taper off equally in both directions. Extreme values in both tails of the distribution are similarly unlikely."
   ]
  },
  {
   "cell_type": "markdown",
   "id": "98304dd6",
   "metadata": {},
   "source": [
    "## Q2 (10%)\n",
    "Create a function that takes a column as an input, and returns number of outliers in that column. \n",
    "\n",
    "Then apply this function to each column. \n",
    "\n",
    "Print column name and number of outliers together.\n"
   ]
  },
  {
   "cell_type": "code",
   "execution_count": 10,
   "id": "6c3ca210",
   "metadata": {},
   "outputs": [],
   "source": [
    "# Please, write your code here\n",
    "\n",
    "def question2(column):\n",
    "    Q3 = cars[column].quantile(.75)  \n",
    "    Q1 = cars[column].quantile(.25) \n",
    "    IQR = Q3 - Q1 \n",
    "    count = 0\n",
    "\n",
    "    for i in range(0, len(cars[column])):\n",
    "        if(cars[column][i] > Q3 + (1.5 * IQR)):\n",
    "            count = count + 1\n",
    "        elif(cars[column][i] < Q1 - (1.5 * IQR)):\n",
    "            count = count + 1\n",
    "\n",
    "    return column, count"
   ]
  },
  {
   "cell_type": "code",
   "execution_count": 11,
   "id": "7b928dd7-ca15-4914-b0e8-acc7e1be9a12",
   "metadata": {},
   "outputs": [
    {
     "name": "stdout",
     "output_type": "stream",
     "text": [
      "('year', 580)\n",
      "('price', 1619)\n",
      "('mileage', 1184)\n",
      "('tax', 9189)\n",
      "('mpg', 436)\n",
      "('engineSize', 5880)\n"
     ]
    }
   ],
   "source": [
    "for column in cars.select_dtypes(include=np.number).columns:\n",
    "    print(question2(column))"
   ]
  },
  {
   "cell_type": "markdown",
   "id": "cd997778",
   "metadata": {},
   "source": [
    "## Q3 (10%)\n",
    "For Mercedes of **year 2020** and BMW of **year 2020** define separately new objects for:\n",
    "1. size (i.e. number of observations) \n",
    "2. Price mean \n",
    "3. Price sample std \n",
    "\n",
    "And then print all of them properly.\n",
    "\n",
    "*Hint:* you will get overall 6 objects. \n",
    "\n",
    "*Note:* you will need these objects in further questions, hence solve it properly."
   ]
  },
  {
   "cell_type": "code",
   "execution_count": 12,
   "id": "db38b756-1b30-4630-8683-bf5dae44e6db",
   "metadata": {},
   "outputs": [],
   "source": [
    "# Please, write your code here\n",
    "\n",
    "merce_y_2020 = cars[(cars['carBrand']=='Mercedes') & (cars['year']==2020)]\n",
    "\n",
    "bmw_y_2020 = cars[(cars['carBrand']=='BMW') & (cars['year']==2020)]"
   ]
  },
  {
   "cell_type": "code",
   "execution_count": 13,
   "id": "14ec8415-9fdc-4fd6-a6c0-a45909992237",
   "metadata": {},
   "outputs": [
    {
     "name": "stdout",
     "output_type": "stream",
     "text": [
      "size of Mercedes:  719\n",
      "size of BMW:  733\n",
      "Price mean of Mercedes:  35433.28233657858\n",
      "Price mean of BMW:  35377.680763983626\n",
      "Price sample std of Mercedes:  13424.191653337006\n",
      "Price sample std of BMW:  11323.814924985585\n"
     ]
    }
   ],
   "source": [
    "merc_l = len(merce_y_2020)\n",
    "bmw_l = len(bmw_y_2020)\n",
    "\n",
    "merc_m = merce_y_2020['price'].mean()\n",
    "bmw_m = bmw_y_2020['price'].mean()\n",
    "\n",
    "merc_Std = merce_y_2020['price'].std()\n",
    "bmw_Std = bmw_y_2020['price'].std()\n",
    "\n",
    "print(\"size of Mercedes: \",merc_l)\n",
    "print(\"size of BMW: \",bmw_l)\n",
    "\n",
    "print(\"Price mean of Mercedes: \",merc_m)\n",
    "print(\"Price mean of BMW: \",bmw_m)\n",
    "\n",
    "print(\"Price sample std of Mercedes: \",merc_Std)\n",
    "print(\"Price sample std of BMW: \",bmw_Std)"
   ]
  },
  {
   "cell_type": "markdown",
   "id": "12f94647",
   "metadata": {},
   "source": [
    "## Q4 (10%)\n",
    "Some people believe that brand new (i.e. with year 2020) cars of  Mercedes and BMW have different (population) mean Price. Test that hypothesis with all necessary steps of hypothesis testing.\n",
    "\n",
    "*Note:* assume that our dataset is a sample of different cars."
   ]
  },
  {
   "cell_type": "code",
   "execution_count": 14,
   "id": "3099fd75",
   "metadata": {},
   "outputs": [
    {
     "name": "stdout",
     "output_type": "stream",
     "text": [
      "                      C\n",
      "year carBrand price    \n",
      "1970 Mercedes 24999   1\n",
      "1996 BMW      5995    1\n",
      "1997 Audi     4650    1\n",
      "     BMW      3950    1\n",
      "     Mercedes 9995    1\n",
      "...                  ..\n",
      "2020 Mercedes 76469   1\n",
      "              76980   1\n",
      "              138439  1\n",
      "              154998  1\n",
      "              159999  1\n",
      "\n",
      "[18297 rows x 1 columns]\n"
     ]
    }
   ],
   "source": [
    "# Please, write your code here\n",
    "group_p = cars.groupby(['year', 'carBrand','price'])\n",
    "df = pd.concat([group_p.carBrand.count()], axis=1, keys=\"Counts\")\n",
    "print(df)"
   ]
  },
  {
   "cell_type": "markdown",
   "id": "61981185",
   "metadata": {},
   "source": [
    "## Q5 (10%)\n",
    "Take Audi with year 2009, and it will be your sample of cars. Now build 95% Confidence Interval for mileage of these cars. \n",
    "\n",
    "Is there evidence that these cars have mileage more than 80k miles?"
   ]
  },
  {
   "cell_type": "code",
   "execution_count": 15,
   "id": "322ad336",
   "metadata": {},
   "outputs": [],
   "source": [
    "# Please, write your code here\n",
    "q5 = cars[(cars['carBrand']=='Audi') & (cars['year']==2009)]"
   ]
  },
  {
   "cell_type": "code",
   "execution_count": 16,
   "id": "14a91ec0-b731-4d69-aa44-6e66810f6bd6",
   "metadata": {},
   "outputs": [
    {
     "name": "stdout",
     "output_type": "stream",
     "text": [
      "Lower bound: 90300.07\n",
      "Upper bound: 95000.28\n"
     ]
    }
   ],
   "source": [
    "mu = q5['mileage'].mean()\n",
    "\n",
    "std_error = q5['mileage'].std()/len(q5['mileage'])\n",
    "\n",
    "interval95 = norm.interval(0.95, mu, std_error)\n",
    "print('Lower bound:', round(interval95[0], 2))\n",
    "print('Upper bound:', round(interval95[1], 2))"
   ]
  },
  {
   "cell_type": "markdown",
   "id": "0c43374e",
   "metadata": {},
   "source": [
    "## Q6 (10%)\n",
    "Assume that car taxes are normally distributed. Calculate sample mean and sample standard deviation of taxes from this dataset. Take them as values of population parameters. Using these parameters answer the following questions:\n",
    "1. Find the probability that randomly selected car from such population will have tax value between 100 and 200? Show your answer rounded to 3 decimal places.\n",
    "2. Find the probability that randomly selected car from such population will have tax value below 60 or above 170? Show your answer rounded to 3 decimal places."
   ]
  },
  {
   "cell_type": "code",
   "execution_count": 17,
   "id": "f5d75615",
   "metadata": {},
   "outputs": [
    {
     "name": "stdout",
     "output_type": "stream",
     "text": [
      "0.537\n",
      "0.407\n"
     ]
    }
   ],
   "source": [
    "# Please, write your code here\n",
    "mu = cars['tax'].mean()\n",
    "sigma = cars['tax'].std()\n",
    "\n",
    "res = norm.cdf(x = 200, loc = mu, scale = sigma) - norm.cdf(x = 100, loc = mu, scale = sigma)\n",
    "print(round(res, 3))\n",
    "\n",
    "res = 1 - (norm.cdf(x = 170, loc = mu, scale = sigma) - norm.cdf(x = 60, loc = mu, scale = sigma))\n",
    "print(round(res, 3))"
   ]
  },
  {
   "cell_type": "markdown",
   "id": "c6604466",
   "metadata": {},
   "source": [
    "## Q7 (20%)\n",
    "Using scikit-learn package you will need to build a **regression model.**\n",
    "\n",
    "Target variable is **Tax**. \n",
    "\n",
    "Use any **THREE** variables as regressors (independent variables). \n",
    "\n",
    "Split to train test parts with **20%** for test. \n",
    "\n",
    "Train model and evaluate it properly on test set. \n",
    "\n",
    "Show slope and intercept values. Interpret them. \n",
    "\n",
    "Comment results of your model.\n",
    "\n",
    "*Note:* if you are using categorical variable, it is not necessary to use interaction."
   ]
  },
  {
   "cell_type": "code",
   "execution_count": 18,
   "id": "6375cf29",
   "metadata": {},
   "outputs": [
    {
     "name": "stdout",
     "output_type": "stream",
     "text": [
      "MSE:  3341.1470391981547\n",
      "R2:  0.24986021731242247\n"
     ]
    }
   ],
   "source": [
    "from sklearn.linear_model import LinearRegression\n",
    "from sklearn.model_selection import train_test_split\n",
    "from sklearn.metrics import mean_squared_error\n",
    "from sklearn.metrics import r2_score\n",
    "\n",
    "y = cars['tax']\n",
    "X = cars.iloc[:, [4, 7, 8]]\n",
    "\n",
    "X_train, X_test, y_train, y_test = train_test_split(X, y, test_size = 0.20)\n",
    "\n",
    "model = LinearRegression()\n",
    "model.fit(X_train, y_train)\n",
    "\n",
    "y_pred = model.predict(X_test)\n",
    "print('MSE: ', mean_squared_error(y_test, y_pred))\n",
    "print('R2: ', r2_score(y_test, y_pred))"
   ]
  },
  {
   "cell_type": "code",
   "execution_count": 19,
   "id": "b576e8db-ccde-4297-9bab-56a4e93c0c5e",
   "metadata": {},
   "outputs": [
    {
     "name": "stdout",
     "output_type": "stream",
     "text": [
      "Intercept:  124.88959296624401\n",
      "Coefficicent 1:  -0.0003247689682668147\n",
      "Coefficicent 2:  -0.972560825158268\n",
      "Coefficicent 3:  31.4976907507206\n"
     ]
    }
   ],
   "source": [
    "print('Intercept: ', model.intercept_)\n",
    "\n",
    "i = 0\n",
    "for coef in model.coef_:\n",
    "    print(f'Coefficicent {i + 1}: ', coef)\n",
    "    i = i + 1"
   ]
  },
  {
   "cell_type": "markdown",
   "id": "cff3279c-ee5b-41b6-b7b7-161ab92a1153",
   "metadata": {},
   "source": [
    "The Intercept we've got is initial point from which line starts, in my case 117.841. We also get this value when our xs are 0.\n",
    "Coefficients show the change of the y when we increase x for one unit."
   ]
  },
  {
   "cell_type": "markdown",
   "id": "92fd841a-84e0-458e-a749-4e63819d886f",
   "metadata": {},
   "source": [
    "I can conclude that taking mileage, mpg and engineSize gives us the best result in terms of MSE and R2 metrics(of course if we consider only 3 regressors to pick)"
   ]
  },
  {
   "cell_type": "markdown",
   "id": "9c106e0e",
   "metadata": {},
   "source": [
    "## Q8 (20%)\n",
    "Using scikit-learn package you  will need to build a **classification model.** \n",
    "\n",
    "You have updated dataset **cars_2** below.\n",
    "\n",
    "Target variable is **Efficient**, which is a new variable created below. It shows if a car has efficient fuel consumption (i.e. mpg above 65). \n",
    "\n",
    "You can use any **THREE** variables as regressors (independent variables), except **mpg** itself.\n",
    "\n",
    "Split to train test parts with **20%** for test. \n",
    "\n",
    "Train model and evaluate it properly on test set. \n",
    "\n",
    "Comment results of your model."
   ]
  },
  {
   "cell_type": "code",
   "execution_count": 20,
   "id": "32d547fc",
   "metadata": {},
   "outputs": [
    {
     "data": {
      "text/html": [
       "<div>\n",
       "<style scoped>\n",
       "    .dataframe tbody tr th:only-of-type {\n",
       "        vertical-align: middle;\n",
       "    }\n",
       "\n",
       "    .dataframe tbody tr th {\n",
       "        vertical-align: top;\n",
       "    }\n",
       "\n",
       "    .dataframe thead th {\n",
       "        text-align: right;\n",
       "    }\n",
       "</style>\n",
       "<table border=\"1\" class=\"dataframe\">\n",
       "  <thead>\n",
       "    <tr style=\"text-align: right;\">\n",
       "      <th></th>\n",
       "      <th>model</th>\n",
       "      <th>year</th>\n",
       "      <th>price</th>\n",
       "      <th>transmission</th>\n",
       "      <th>mileage</th>\n",
       "      <th>fuelType</th>\n",
       "      <th>tax</th>\n",
       "      <th>engineSize</th>\n",
       "      <th>carBrand</th>\n",
       "      <th>BrandModel</th>\n",
       "      <th>efficient</th>\n",
       "    </tr>\n",
       "  </thead>\n",
       "  <tbody>\n",
       "    <tr>\n",
       "      <th>0</th>\n",
       "      <td>A1</td>\n",
       "      <td>2017</td>\n",
       "      <td>12500</td>\n",
       "      <td>Manual</td>\n",
       "      <td>15735</td>\n",
       "      <td>Petrol</td>\n",
       "      <td>150</td>\n",
       "      <td>1.4</td>\n",
       "      <td>Audi</td>\n",
       "      <td>Audi -  A1</td>\n",
       "      <td>0</td>\n",
       "    </tr>\n",
       "    <tr>\n",
       "      <th>1</th>\n",
       "      <td>A6</td>\n",
       "      <td>2016</td>\n",
       "      <td>16500</td>\n",
       "      <td>Automatic</td>\n",
       "      <td>36203</td>\n",
       "      <td>Diesel</td>\n",
       "      <td>20</td>\n",
       "      <td>2.0</td>\n",
       "      <td>Audi</td>\n",
       "      <td>Audi -  A6</td>\n",
       "      <td>0</td>\n",
       "    </tr>\n",
       "    <tr>\n",
       "      <th>2</th>\n",
       "      <td>A1</td>\n",
       "      <td>2016</td>\n",
       "      <td>11000</td>\n",
       "      <td>Manual</td>\n",
       "      <td>29946</td>\n",
       "      <td>Petrol</td>\n",
       "      <td>30</td>\n",
       "      <td>1.4</td>\n",
       "      <td>Audi</td>\n",
       "      <td>Audi -  A1</td>\n",
       "      <td>0</td>\n",
       "    </tr>\n",
       "    <tr>\n",
       "      <th>3</th>\n",
       "      <td>A4</td>\n",
       "      <td>2017</td>\n",
       "      <td>16800</td>\n",
       "      <td>Automatic</td>\n",
       "      <td>25952</td>\n",
       "      <td>Diesel</td>\n",
       "      <td>145</td>\n",
       "      <td>2.0</td>\n",
       "      <td>Audi</td>\n",
       "      <td>Audi -  A4</td>\n",
       "      <td>1</td>\n",
       "    </tr>\n",
       "    <tr>\n",
       "      <th>4</th>\n",
       "      <td>A3</td>\n",
       "      <td>2019</td>\n",
       "      <td>17300</td>\n",
       "      <td>Manual</td>\n",
       "      <td>1998</td>\n",
       "      <td>Petrol</td>\n",
       "      <td>145</td>\n",
       "      <td>1.0</td>\n",
       "      <td>Audi</td>\n",
       "      <td>Audi -  A3</td>\n",
       "      <td>0</td>\n",
       "    </tr>\n",
       "  </tbody>\n",
       "</table>\n",
       "</div>"
      ],
      "text/plain": [
       "  model  year  price transmission  mileage fuelType  tax  engineSize carBrand  \\\n",
       "0    A1  2017  12500       Manual    15735   Petrol  150         1.4     Audi   \n",
       "1    A6  2016  16500    Automatic    36203   Diesel   20         2.0     Audi   \n",
       "2    A1  2016  11000       Manual    29946   Petrol   30         1.4     Audi   \n",
       "3    A4  2017  16800    Automatic    25952   Diesel  145         2.0     Audi   \n",
       "4    A3  2019  17300       Manual     1998   Petrol  145         1.0     Audi   \n",
       "\n",
       "   BrandModel  efficient  \n",
       "0  Audi -  A1          0  \n",
       "1  Audi -  A6          0  \n",
       "2  Audi -  A1          0  \n",
       "3  Audi -  A4          1  \n",
       "4  Audi -  A3          0  "
      ]
     },
     "execution_count": 20,
     "metadata": {},
     "output_type": "execute_result"
    }
   ],
   "source": [
    "cars_2 = cars.copy()\n",
    "cars_2.loc[:, 'efficient'] = 0\n",
    "cars_2.loc[cars.mpg > 65, 'efficient'] = 1 \n",
    "cars_2.drop('mpg', axis=1, inplace=True)\n",
    "cars_2.head()"
   ]
  },
  {
   "cell_type": "code",
   "execution_count": 21,
   "id": "9fb0dbb7",
   "metadata": {},
   "outputs": [
    {
     "name": "stdout",
     "output_type": "stream",
     "text": [
      "F1:  0.5752143413873734\n"
     ]
    }
   ],
   "source": [
    "# Please, write your code here\n",
    "from sklearn.linear_model import LogisticRegression\n",
    "from sklearn.metrics import f1_score\n",
    "\n",
    "y = cars_2['efficient']\n",
    "X = cars_2.iloc[:, [1, 2, 6]]\n",
    "\n",
    "X_train, X_test, y_train, y_test = train_test_split(X, y, test_size = 0.20)\n",
    "\n",
    "model = LogisticRegression()\n",
    "model.fit(X_train, y_train)\n",
    "\n",
    "y_pred = model.predict(X_test)\n",
    "print('F1: ', f1_score(y_test, y_pred))"
   ]
  },
  {
   "cell_type": "markdown",
   "id": "bb8ce144-92c8-43ed-9762-0fb1a65b632d",
   "metadata": {},
   "source": [
    "We've got F1-score 0.574 which is not so good enough. But I just discovered target variable has strong dependence of tax variable and with mix of year and price variables it gives such F1 score, while engineSize has almost no effect on target."
   ]
  },
  {
   "cell_type": "markdown",
   "id": "3cccd5f0",
   "metadata": {},
   "source": [
    "---\n",
    "\n",
    "### Evaluation (Keep it!)\n",
    "\n",
    "| Question | Mark     | Comment   \n",
    "|:-------:|:--------:|:----------------------\n",
    "| 1       |   10/10    |     \n",
    "| 2       |   10/10 | \n",
    "| 3       |   10/10     |    \n",
    "| 4       |   10/10    |     \n",
    "| 5       |   10/10 | \n",
    "| 6       |   10/10     |   \n",
    "| 7       |   20/20    |     \n",
    "| 8       |   20/20 | \n",
    "|**Total**|**100/100**  | \n"
   ]
  }
 ],
 "metadata": {
  "kernelspec": {
   "display_name": "Python 3 (ipykernel)",
   "language": "python",
   "name": "python3"
  },
  "language_info": {
   "codemirror_mode": {
    "name": "ipython",
    "version": 3
   },
   "file_extension": ".py",
   "mimetype": "text/x-python",
   "name": "python",
   "nbconvert_exporter": "python",
   "pygments_lexer": "ipython3",
   "version": "3.9.7"
  }
 },
 "nbformat": 4,
 "nbformat_minor": 5
}
